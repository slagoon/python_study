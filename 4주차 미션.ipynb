{
 "cells": [
  {
   "cell_type": "code",
   "execution_count": 1,
   "id": "48efc29c",
   "metadata": {
    "ExecuteTime": {
     "end_time": "2022-11-22T06:20:47.331942Z",
     "start_time": "2022-11-22T06:20:44.123163Z"
    }
   },
   "outputs": [
    {
     "name": "stdout",
     "output_type": "stream",
     "text": [
      "Requirement already satisfied: koreanize-matplotlib in c:\\users\\alsgu\\anaconda3\\lib\\site-packages (0.0.1)\n",
      "Requirement already satisfied: matplotlib in c:\\users\\alsgu\\anaconda3\\lib\\site-packages (from koreanize-matplotlib) (3.4.3)\n",
      "Requirement already satisfied: cycler>=0.10 in c:\\users\\alsgu\\anaconda3\\lib\\site-packages (from matplotlib->koreanize-matplotlib) (0.10.0)\n",
      "Requirement already satisfied: numpy>=1.16 in c:\\users\\alsgu\\anaconda3\\lib\\site-packages (from matplotlib->koreanize-matplotlib) (1.21.2)\n",
      "Requirement already satisfied: pyparsing>=2.2.1 in c:\\users\\alsgu\\anaconda3\\lib\\site-packages (from matplotlib->koreanize-matplotlib) (2.4.7)\n",
      "Requirement already satisfied: kiwisolver>=1.0.1 in c:\\users\\alsgu\\anaconda3\\lib\\site-packages (from matplotlib->koreanize-matplotlib) (1.3.2)\n",
      "Requirement already satisfied: pillow>=6.2.0 in c:\\users\\alsgu\\anaconda3\\lib\\site-packages (from matplotlib->koreanize-matplotlib) (8.3.1)\n",
      "Requirement already satisfied: python-dateutil>=2.7 in c:\\users\\alsgu\\anaconda3\\lib\\site-packages (from matplotlib->koreanize-matplotlib) (2.8.2)\n",
      "Requirement already satisfied: six in c:\\users\\alsgu\\anaconda3\\lib\\site-packages (from cycler>=0.10->matplotlib->koreanize-matplotlib) (1.16.0)\n"
     ]
    }
   ],
   "source": [
    "import pandas as pd\n",
    "import numpy as np\n",
    "import seaborn as sns\n",
    "import matplotlib.pyplot as plt\n",
    "\n",
    "# 한글폰트 사용을 위해 설치\n",
    "# 아래 모듈을 설치하고 불러오면 별도의 한글폰트 설정이 필요 없습니다.\n",
    "!pip install koreanize-matplotlib\n",
    "\n",
    "import koreanize_matplotlib\n",
    "\n",
    "df = pd.read_csv(\n",
    "    \"https://raw.githubusercontent.com/corazzon/boostcourse-ds-510/master/data/online_oversea_sale_202210.csv.zip\", \n",
    "    encoding=\"cp949\")"
   ]
  },
  {
   "cell_type": "markdown",
   "id": "b8041743",
   "metadata": {},
   "source": [
    "## Q1. 시점 컬럼에서 연도와 분기에 대한 파생변수를 생성하고 기술통계를 구해주세요."
   ]
  },
  {
   "cell_type": "code",
   "execution_count": 11,
   "id": "3965c3b4",
   "metadata": {
    "ExecuteTime": {
     "end_time": "2022-11-22T06:21:30.934289Z",
     "start_time": "2022-11-22T06:21:30.923289Z"
    }
   },
   "outputs": [
    {
     "data": {
      "text/html": [
       "<div>\n",
       "<style scoped>\n",
       "    .dataframe tbody tr th:only-of-type {\n",
       "        vertical-align: middle;\n",
       "    }\n",
       "\n",
       "    .dataframe tbody tr th {\n",
       "        vertical-align: top;\n",
       "    }\n",
       "\n",
       "    .dataframe thead th {\n",
       "        text-align: right;\n",
       "    }\n",
       "</style>\n",
       "<table border=\"1\" class=\"dataframe\">\n",
       "  <thead>\n",
       "    <tr style=\"text-align: right;\">\n",
       "      <th></th>\n",
       "      <th>국가(대륙)별</th>\n",
       "      <th>상품군별</th>\n",
       "      <th>판매유형별</th>\n",
       "      <th>시점</th>\n",
       "      <th>백만</th>\n",
       "      <th>연도</th>\n",
       "      <th>분기</th>\n",
       "    </tr>\n",
       "  </thead>\n",
       "  <tbody>\n",
       "    <tr>\n",
       "      <th>0</th>\n",
       "      <td>미국</td>\n",
       "      <td>컴퓨터 및 주변기기</td>\n",
       "      <td>면세점 이외</td>\n",
       "      <td>2017.1/4</td>\n",
       "      <td>1054.0</td>\n",
       "      <td>2017</td>\n",
       "      <td>1</td>\n",
       "    </tr>\n",
       "    <tr>\n",
       "      <th>1</th>\n",
       "      <td>미국</td>\n",
       "      <td>컴퓨터 및 주변기기</td>\n",
       "      <td>면세점 이외</td>\n",
       "      <td>2017.2/4</td>\n",
       "      <td>946.0</td>\n",
       "      <td>2017</td>\n",
       "      <td>2</td>\n",
       "    </tr>\n",
       "    <tr>\n",
       "      <th>2</th>\n",
       "      <td>미국</td>\n",
       "      <td>컴퓨터 및 주변기기</td>\n",
       "      <td>면세점 이외</td>\n",
       "      <td>2017.3/4</td>\n",
       "      <td>791.0</td>\n",
       "      <td>2017</td>\n",
       "      <td>3</td>\n",
       "    </tr>\n",
       "    <tr>\n",
       "      <th>3</th>\n",
       "      <td>미국</td>\n",
       "      <td>컴퓨터 및 주변기기</td>\n",
       "      <td>면세점 이외</td>\n",
       "      <td>2017.4/4</td>\n",
       "      <td>854.0</td>\n",
       "      <td>2017</td>\n",
       "      <td>4</td>\n",
       "    </tr>\n",
       "    <tr>\n",
       "      <th>4</th>\n",
       "      <td>미국</td>\n",
       "      <td>컴퓨터 및 주변기기</td>\n",
       "      <td>면세점 이외</td>\n",
       "      <td>2018.1/4</td>\n",
       "      <td>2033.0</td>\n",
       "      <td>2018</td>\n",
       "      <td>1</td>\n",
       "    </tr>\n",
       "  </tbody>\n",
       "</table>\n",
       "</div>"
      ],
      "text/plain": [
       "  국가(대륙)별        상품군별   판매유형별        시점      백만    연도  분기\n",
       "0      미국  컴퓨터 및 주변기기  면세점 이외  2017.1/4  1054.0  2017   1\n",
       "1      미국  컴퓨터 및 주변기기  면세점 이외  2017.2/4   946.0  2017   2\n",
       "2      미국  컴퓨터 및 주변기기  면세점 이외  2017.3/4   791.0  2017   3\n",
       "3      미국  컴퓨터 및 주변기기  면세점 이외  2017.4/4   854.0  2017   4\n",
       "4      미국  컴퓨터 및 주변기기  면세점 이외  2018.1/4  2033.0  2018   1"
      ]
     },
     "execution_count": 11,
     "metadata": {},
     "output_type": "execute_result"
    }
   ],
   "source": [
    "df.head()"
   ]
  },
  {
   "cell_type": "code",
   "execution_count": 12,
   "id": "c33e8516",
   "metadata": {
    "ExecuteTime": {
     "end_time": "2022-11-22T06:21:31.161252Z",
     "start_time": "2022-11-22T06:21:31.156252Z"
    }
   },
   "outputs": [],
   "source": [
    "df.rename(columns={'데이터':'백만'}, inplace=True)"
   ]
  },
  {
   "cell_type": "code",
   "execution_count": 13,
   "id": "a27a9d8d",
   "metadata": {
    "ExecuteTime": {
     "end_time": "2022-11-22T06:21:31.388130Z",
     "start_time": "2022-11-22T06:21:31.363131Z"
    }
   },
   "outputs": [
    {
     "data": {
      "text/html": [
       "<div>\n",
       "<style scoped>\n",
       "    .dataframe tbody tr th:only-of-type {\n",
       "        vertical-align: middle;\n",
       "    }\n",
       "\n",
       "    .dataframe tbody tr th {\n",
       "        vertical-align: top;\n",
       "    }\n",
       "\n",
       "    .dataframe thead th {\n",
       "        text-align: right;\n",
       "    }\n",
       "</style>\n",
       "<table border=\"1\" class=\"dataframe\">\n",
       "  <thead>\n",
       "    <tr style=\"text-align: right;\">\n",
       "      <th></th>\n",
       "      <th>국가(대륙)별</th>\n",
       "      <th>상품군별</th>\n",
       "      <th>판매유형별</th>\n",
       "      <th>시점</th>\n",
       "      <th>백만</th>\n",
       "      <th>연도</th>\n",
       "      <th>분기</th>\n",
       "    </tr>\n",
       "  </thead>\n",
       "  <tbody>\n",
       "    <tr>\n",
       "      <th>0</th>\n",
       "      <td>미국</td>\n",
       "      <td>컴퓨터 및 주변기기</td>\n",
       "      <td>면세점 이외</td>\n",
       "      <td>2017.1/4</td>\n",
       "      <td>1054.0</td>\n",
       "      <td>2017</td>\n",
       "      <td>1</td>\n",
       "    </tr>\n",
       "    <tr>\n",
       "      <th>1</th>\n",
       "      <td>미국</td>\n",
       "      <td>컴퓨터 및 주변기기</td>\n",
       "      <td>면세점 이외</td>\n",
       "      <td>2017.2/4</td>\n",
       "      <td>946.0</td>\n",
       "      <td>2017</td>\n",
       "      <td>2</td>\n",
       "    </tr>\n",
       "    <tr>\n",
       "      <th>2</th>\n",
       "      <td>미국</td>\n",
       "      <td>컴퓨터 및 주변기기</td>\n",
       "      <td>면세점 이외</td>\n",
       "      <td>2017.3/4</td>\n",
       "      <td>791.0</td>\n",
       "      <td>2017</td>\n",
       "      <td>3</td>\n",
       "    </tr>\n",
       "    <tr>\n",
       "      <th>3</th>\n",
       "      <td>미국</td>\n",
       "      <td>컴퓨터 및 주변기기</td>\n",
       "      <td>면세점 이외</td>\n",
       "      <td>2017.4/4</td>\n",
       "      <td>854.0</td>\n",
       "      <td>2017</td>\n",
       "      <td>4</td>\n",
       "    </tr>\n",
       "    <tr>\n",
       "      <th>4</th>\n",
       "      <td>미국</td>\n",
       "      <td>컴퓨터 및 주변기기</td>\n",
       "      <td>면세점 이외</td>\n",
       "      <td>2018.1/4</td>\n",
       "      <td>2033.0</td>\n",
       "      <td>2018</td>\n",
       "      <td>1</td>\n",
       "    </tr>\n",
       "  </tbody>\n",
       "</table>\n",
       "</div>"
      ],
      "text/plain": [
       "  국가(대륙)별        상품군별   판매유형별        시점      백만    연도  분기\n",
       "0      미국  컴퓨터 및 주변기기  면세점 이외  2017.1/4  1054.0  2017   1\n",
       "1      미국  컴퓨터 및 주변기기  면세점 이외  2017.2/4   946.0  2017   2\n",
       "2      미국  컴퓨터 및 주변기기  면세점 이외  2017.3/4   791.0  2017   3\n",
       "3      미국  컴퓨터 및 주변기기  면세점 이외  2017.4/4   854.0  2017   4\n",
       "4      미국  컴퓨터 및 주변기기  면세점 이외  2018.1/4  2033.0  2018   1"
      ]
     },
     "execution_count": 13,
     "metadata": {},
     "output_type": "execute_result"
    }
   ],
   "source": [
    "df['연도'] = df['시점'].map(lambda x:int(x.split('.')[0]))\n",
    "df.head()"
   ]
  },
  {
   "cell_type": "code",
   "execution_count": 14,
   "id": "6eb962f6",
   "metadata": {
    "ExecuteTime": {
     "end_time": "2022-11-22T06:21:31.509131Z",
     "start_time": "2022-11-22T06:21:31.487067Z"
    }
   },
   "outputs": [
    {
     "data": {
      "text/html": [
       "<div>\n",
       "<style scoped>\n",
       "    .dataframe tbody tr th:only-of-type {\n",
       "        vertical-align: middle;\n",
       "    }\n",
       "\n",
       "    .dataframe tbody tr th {\n",
       "        vertical-align: top;\n",
       "    }\n",
       "\n",
       "    .dataframe thead th {\n",
       "        text-align: right;\n",
       "    }\n",
       "</style>\n",
       "<table border=\"1\" class=\"dataframe\">\n",
       "  <thead>\n",
       "    <tr style=\"text-align: right;\">\n",
       "      <th></th>\n",
       "      <th>국가(대륙)별</th>\n",
       "      <th>상품군별</th>\n",
       "      <th>판매유형별</th>\n",
       "      <th>시점</th>\n",
       "      <th>백만</th>\n",
       "      <th>연도</th>\n",
       "      <th>분기</th>\n",
       "    </tr>\n",
       "  </thead>\n",
       "  <tbody>\n",
       "    <tr>\n",
       "      <th>0</th>\n",
       "      <td>미국</td>\n",
       "      <td>컴퓨터 및 주변기기</td>\n",
       "      <td>면세점 이외</td>\n",
       "      <td>2017.1/4</td>\n",
       "      <td>1054.0</td>\n",
       "      <td>2017</td>\n",
       "      <td>1</td>\n",
       "    </tr>\n",
       "    <tr>\n",
       "      <th>1</th>\n",
       "      <td>미국</td>\n",
       "      <td>컴퓨터 및 주변기기</td>\n",
       "      <td>면세점 이외</td>\n",
       "      <td>2017.2/4</td>\n",
       "      <td>946.0</td>\n",
       "      <td>2017</td>\n",
       "      <td>2</td>\n",
       "    </tr>\n",
       "    <tr>\n",
       "      <th>2</th>\n",
       "      <td>미국</td>\n",
       "      <td>컴퓨터 및 주변기기</td>\n",
       "      <td>면세점 이외</td>\n",
       "      <td>2017.3/4</td>\n",
       "      <td>791.0</td>\n",
       "      <td>2017</td>\n",
       "      <td>3</td>\n",
       "    </tr>\n",
       "    <tr>\n",
       "      <th>3</th>\n",
       "      <td>미국</td>\n",
       "      <td>컴퓨터 및 주변기기</td>\n",
       "      <td>면세점 이외</td>\n",
       "      <td>2017.4/4</td>\n",
       "      <td>854.0</td>\n",
       "      <td>2017</td>\n",
       "      <td>4</td>\n",
       "    </tr>\n",
       "    <tr>\n",
       "      <th>4</th>\n",
       "      <td>미국</td>\n",
       "      <td>컴퓨터 및 주변기기</td>\n",
       "      <td>면세점 이외</td>\n",
       "      <td>2018.1/4</td>\n",
       "      <td>2033.0</td>\n",
       "      <td>2018</td>\n",
       "      <td>1</td>\n",
       "    </tr>\n",
       "  </tbody>\n",
       "</table>\n",
       "</div>"
      ],
      "text/plain": [
       "  국가(대륙)별        상품군별   판매유형별        시점      백만    연도  분기\n",
       "0      미국  컴퓨터 및 주변기기  면세점 이외  2017.1/4  1054.0  2017   1\n",
       "1      미국  컴퓨터 및 주변기기  면세점 이외  2017.2/4   946.0  2017   2\n",
       "2      미국  컴퓨터 및 주변기기  면세점 이외  2017.3/4   791.0  2017   3\n",
       "3      미국  컴퓨터 및 주변기기  면세점 이외  2017.4/4   854.0  2017   4\n",
       "4      미국  컴퓨터 및 주변기기  면세점 이외  2018.1/4  2033.0  2018   1"
      ]
     },
     "execution_count": 14,
     "metadata": {},
     "output_type": "execute_result"
    }
   ],
   "source": [
    "df['분기'] = df['시점'].map(lambda x : int(x.split('.')[1].split('/')[0]))\n",
    "df.head()"
   ]
  },
  {
   "cell_type": "code",
   "execution_count": 15,
   "id": "b7962956",
   "metadata": {
    "ExecuteTime": {
     "end_time": "2022-11-22T06:21:31.646528Z",
     "start_time": "2022-11-22T06:21:31.624577Z"
    }
   },
   "outputs": [
    {
     "data": {
      "text/plain": [
       "0       1054.0\n",
       "1        946.0\n",
       "2        791.0\n",
       "3        854.0\n",
       "4       2033.0\n",
       "         ...  \n",
       "2767    1278.0\n",
       "2768    1154.0\n",
       "2769    1076.0\n",
       "2770    2325.0\n",
       "2771     725.0\n",
       "Name: 백만, Length: 2772, dtype: float64"
      ]
     },
     "execution_count": 15,
     "metadata": {},
     "output_type": "execute_result"
    }
   ],
   "source": [
    "df['백만'] = df['백만'].replace('-', np.nan).astype(float)\n",
    "df['백만']"
   ]
  },
  {
   "cell_type": "code",
   "execution_count": 16,
   "id": "840df9a7",
   "metadata": {
    "ExecuteTime": {
     "end_time": "2022-11-22T06:21:31.903733Z",
     "start_time": "2022-11-22T06:21:31.887734Z"
    }
   },
   "outputs": [
    {
     "data": {
      "text/plain": [
       "국가(대륙)별     object\n",
       "상품군별        object\n",
       "판매유형별       object\n",
       "시점          object\n",
       "백만         float64\n",
       "연도           int64\n",
       "분기           int64\n",
       "dtype: object"
      ]
     },
     "execution_count": 16,
     "metadata": {},
     "output_type": "execute_result"
    }
   ],
   "source": [
    "df.dtypes"
   ]
  },
  {
   "cell_type": "code",
   "execution_count": 17,
   "id": "9f4005c8",
   "metadata": {
    "ExecuteTime": {
     "end_time": "2022-11-22T06:21:32.450668Z",
     "start_time": "2022-11-22T06:21:32.432121Z"
    }
   },
   "outputs": [
    {
     "data": {
      "text/html": [
       "<div>\n",
       "<style scoped>\n",
       "    .dataframe tbody tr th:only-of-type {\n",
       "        vertical-align: middle;\n",
       "    }\n",
       "\n",
       "    .dataframe tbody tr th {\n",
       "        vertical-align: top;\n",
       "    }\n",
       "\n",
       "    .dataframe thead th {\n",
       "        text-align: right;\n",
       "    }\n",
       "</style>\n",
       "<table border=\"1\" class=\"dataframe\">\n",
       "  <thead>\n",
       "    <tr style=\"text-align: right;\">\n",
       "      <th></th>\n",
       "      <th>백만</th>\n",
       "      <th>연도</th>\n",
       "      <th>분기</th>\n",
       "    </tr>\n",
       "  </thead>\n",
       "  <tbody>\n",
       "    <tr>\n",
       "      <th>count</th>\n",
       "      <td>2772.000000</td>\n",
       "      <td>2772.000000</td>\n",
       "      <td>2772.000000</td>\n",
       "    </tr>\n",
       "    <tr>\n",
       "      <th>mean</th>\n",
       "      <td>1613.116522</td>\n",
       "      <td>2019.272727</td>\n",
       "      <td>2.409091</td>\n",
       "    </tr>\n",
       "    <tr>\n",
       "      <th>std</th>\n",
       "      <td>4273.426107</td>\n",
       "      <td>1.600909</td>\n",
       "      <td>1.114533</td>\n",
       "    </tr>\n",
       "    <tr>\n",
       "      <th>min</th>\n",
       "      <td>-10003.000000</td>\n",
       "      <td>2017.000000</td>\n",
       "      <td>1.000000</td>\n",
       "    </tr>\n",
       "    <tr>\n",
       "      <th>25%</th>\n",
       "      <td>41.750000</td>\n",
       "      <td>2018.000000</td>\n",
       "      <td>1.000000</td>\n",
       "    </tr>\n",
       "    <tr>\n",
       "      <th>50%</th>\n",
       "      <td>291.500000</td>\n",
       "      <td>2019.000000</td>\n",
       "      <td>2.000000</td>\n",
       "    </tr>\n",
       "    <tr>\n",
       "      <th>75%</th>\n",
       "      <td>1181.000000</td>\n",
       "      <td>2021.000000</td>\n",
       "      <td>3.000000</td>\n",
       "    </tr>\n",
       "    <tr>\n",
       "      <th>max</th>\n",
       "      <td>47689.000000</td>\n",
       "      <td>2022.000000</td>\n",
       "      <td>4.000000</td>\n",
       "    </tr>\n",
       "  </tbody>\n",
       "</table>\n",
       "</div>"
      ],
      "text/plain": [
       "                 백만           연도           분기\n",
       "count   2772.000000  2772.000000  2772.000000\n",
       "mean    1613.116522  2019.272727     2.409091\n",
       "std     4273.426107     1.600909     1.114533\n",
       "min   -10003.000000  2017.000000     1.000000\n",
       "25%       41.750000  2018.000000     1.000000\n",
       "50%      291.500000  2019.000000     2.000000\n",
       "75%     1181.000000  2021.000000     3.000000\n",
       "max    47689.000000  2022.000000     4.000000"
      ]
     },
     "execution_count": 17,
     "metadata": {},
     "output_type": "execute_result"
    }
   ],
   "source": [
    "df.describe()"
   ]
  },
  {
   "cell_type": "markdown",
   "id": "42980582",
   "metadata": {},
   "source": [
    "- 해당 통계로 알 수 있는 점은 총 데이터의 수, 각 칼럼의 평균, 표준편차, 최소값, 2사분위, 3사분위, 중간값, 최대값을 알 수 있다"
   ]
  },
  {
   "cell_type": "markdown",
   "id": "a48ebef7",
   "metadata": {},
   "source": [
    "## Q2. pivot_table을 사용하여 국가(대륙)별 연도별 판매액의 합계를 분석해 주세요.\n"
   ]
  },
  {
   "cell_type": "code",
   "execution_count": 18,
   "id": "436cda3d",
   "metadata": {
    "ExecuteTime": {
     "end_time": "2022-11-22T06:21:33.758539Z",
     "start_time": "2022-11-22T06:21:33.723528Z"
    }
   },
   "outputs": [
    {
     "data": {
      "text/html": [
       "<div>\n",
       "<style scoped>\n",
       "    .dataframe tbody tr th:only-of-type {\n",
       "        vertical-align: middle;\n",
       "    }\n",
       "\n",
       "    .dataframe tbody tr th {\n",
       "        vertical-align: top;\n",
       "    }\n",
       "\n",
       "    .dataframe thead th {\n",
       "        text-align: right;\n",
       "    }\n",
       "</style>\n",
       "<table border=\"1\" class=\"dataframe\">\n",
       "  <thead>\n",
       "    <tr style=\"text-align: right;\">\n",
       "      <th>연도</th>\n",
       "      <th>2017</th>\n",
       "      <th>2018</th>\n",
       "      <th>2019</th>\n",
       "      <th>2020</th>\n",
       "      <th>2021</th>\n",
       "      <th>2022</th>\n",
       "    </tr>\n",
       "    <tr>\n",
       "      <th>국가(대륙)별</th>\n",
       "      <th></th>\n",
       "      <th></th>\n",
       "      <th></th>\n",
       "      <th></th>\n",
       "      <th></th>\n",
       "      <th></th>\n",
       "    </tr>\n",
       "  </thead>\n",
       "  <tbody>\n",
       "    <tr>\n",
       "      <th>기타</th>\n",
       "      <td>41571.0</td>\n",
       "      <td>36141.0</td>\n",
       "      <td>40950.0</td>\n",
       "      <td>44438.0</td>\n",
       "      <td>57959.0</td>\n",
       "      <td>19501.0</td>\n",
       "    </tr>\n",
       "    <tr>\n",
       "      <th>대양주</th>\n",
       "      <td>18989.0</td>\n",
       "      <td>17520.0</td>\n",
       "      <td>13191.0</td>\n",
       "      <td>16255.0</td>\n",
       "      <td>16841.0</td>\n",
       "      <td>5044.0</td>\n",
       "    </tr>\n",
       "    <tr>\n",
       "      <th>미국</th>\n",
       "      <td>142292.0</td>\n",
       "      <td>156312.0</td>\n",
       "      <td>186617.0</td>\n",
       "      <td>255384.0</td>\n",
       "      <td>277579.0</td>\n",
       "      <td>103416.0</td>\n",
       "    </tr>\n",
       "    <tr>\n",
       "      <th>아세안(ASEAN)</th>\n",
       "      <td>66163.0</td>\n",
       "      <td>76450.0</td>\n",
       "      <td>82930.0</td>\n",
       "      <td>105360.0</td>\n",
       "      <td>94150.0</td>\n",
       "      <td>38072.0</td>\n",
       "    </tr>\n",
       "    <tr>\n",
       "      <th>유럽연합(EU)</th>\n",
       "      <td>31068.0</td>\n",
       "      <td>36826.0</td>\n",
       "      <td>39008.0</td>\n",
       "      <td>39865.0</td>\n",
       "      <td>32349.0</td>\n",
       "      <td>9019.0</td>\n",
       "    </tr>\n",
       "    <tr>\n",
       "      <th>일본</th>\n",
       "      <td>125442.0</td>\n",
       "      <td>178094.0</td>\n",
       "      <td>189330.0</td>\n",
       "      <td>220730.0</td>\n",
       "      <td>280029.0</td>\n",
       "      <td>131771.0</td>\n",
       "    </tr>\n",
       "    <tr>\n",
       "      <th>중국</th>\n",
       "      <td>167240.0</td>\n",
       "      <td>182068.0</td>\n",
       "      <td>210418.0</td>\n",
       "      <td>289446.0</td>\n",
       "      <td>194380.0</td>\n",
       "      <td>98572.0</td>\n",
       "    </tr>\n",
       "    <tr>\n",
       "      <th>중남미</th>\n",
       "      <td>10245.0</td>\n",
       "      <td>11669.0</td>\n",
       "      <td>12981.0</td>\n",
       "      <td>12563.0</td>\n",
       "      <td>8298.0</td>\n",
       "      <td>2629.0</td>\n",
       "    </tr>\n",
       "    <tr>\n",
       "      <th>중동</th>\n",
       "      <td>8030.0</td>\n",
       "      <td>8019.0</td>\n",
       "      <td>9325.0</td>\n",
       "      <td>11467.0</td>\n",
       "      <td>6164.0</td>\n",
       "      <td>1389.0</td>\n",
       "    </tr>\n",
       "  </tbody>\n",
       "</table>\n",
       "</div>"
      ],
      "text/plain": [
       "연도              2017      2018      2019      2020      2021      2022\n",
       "국가(대륙)별                                                               \n",
       "기타           41571.0   36141.0   40950.0   44438.0   57959.0   19501.0\n",
       "대양주          18989.0   17520.0   13191.0   16255.0   16841.0    5044.0\n",
       "미국          142292.0  156312.0  186617.0  255384.0  277579.0  103416.0\n",
       "아세안(ASEAN)   66163.0   76450.0   82930.0  105360.0   94150.0   38072.0\n",
       "유럽연합(EU)     31068.0   36826.0   39008.0   39865.0   32349.0    9019.0\n",
       "일본          125442.0  178094.0  189330.0  220730.0  280029.0  131771.0\n",
       "중국          167240.0  182068.0  210418.0  289446.0  194380.0   98572.0\n",
       "중남미          10245.0   11669.0   12981.0   12563.0    8298.0    2629.0\n",
       "중동            8030.0    8019.0    9325.0   11467.0    6164.0    1389.0"
      ]
     },
     "execution_count": 18,
     "metadata": {},
     "output_type": "execute_result"
    }
   ],
   "source": [
    "df_pivot = df.pivot_table(index='국가(대륙)별', values='백만', columns='연도', aggfunc=sum )\n",
    "df_pivot"
   ]
  },
  {
   "cell_type": "code",
   "execution_count": 19,
   "id": "8775bc5d",
   "metadata": {
    "ExecuteTime": {
     "end_time": "2022-11-22T06:21:34.061226Z",
     "start_time": "2022-11-22T06:21:33.906912Z"
    }
   },
   "outputs": [
    {
     "data": {
      "text/plain": [
       "<AxesSubplot:xlabel='연도', ylabel='국가(대륙)별'>"
      ]
     },
     "execution_count": 19,
     "metadata": {},
     "output_type": "execute_result"
    },
    {
     "data": {
      "image/png": "[encoded data removed]",
      "text/plain": [
       "<Figure size 432x288 with 2 Axes>"
      ]
     },
     "metadata": {
      "needs_background": "light"
     },
     "output_type": "display_data"
    }
   ],
   "source": [
    "sns.heatmap(df_pivot)"
   ]
  },
  {
   "cell_type": "markdown",
   "id": "f3e54ed4",
   "metadata": {},
   "source": [
    "## Q3. groupby를 사용하여 2020년의 온라인 해외판매 상품군을 지역별 합계를 구해 분석해 주세요."
   ]
  },
  {
   "cell_type": "markdown",
   "id": "14e6550d",
   "metadata": {},
   "source": [
    "## Q4. 주요 판매 국가와 상품군에 대해 2021년까지의 연도별 온라인 직접 판매액 합계를 시각화 해주세요."
   ]
  },
  {
   "cell_type": "code",
   "execution_count": 20,
   "id": "d202fa22",
   "metadata": {
    "ExecuteTime": {
     "end_time": "2022-11-22T06:22:47.395538Z",
     "start_time": "2022-11-22T06:22:47.379292Z"
    }
   },
   "outputs": [
    {
     "data": {
      "text/plain": [
       "array(['미국', '중국', '일본', '아세안(ASEAN)', '유럽연합(EU)', '중동', '중남미', '대양주',\n",
       "       '기타'], dtype=object)"
      ]
     },
     "execution_count": 20,
     "metadata": {},
     "output_type": "execute_result"
    }
   ],
   "source": [
    "df['국가(대륙)별'].unique()"
   ]
  },
  {
   "cell_type": "code",
   "execution_count": 22,
   "id": "917cccdc",
   "metadata": {
    "ExecuteTime": {
     "end_time": "2022-11-22T06:32:56.505655Z",
     "start_time": "2022-11-22T06:32:56.498699Z"
    }
   },
   "outputs": [
    {
     "data": {
      "text/plain": [
       "array(['컴퓨터 및 주변기기', '가전·전자·통신기기', '소프트웨어', '서 적', '사무·문구', '음반·비디오·악기',\n",
       "       '의류 및 패션 관련상품', '스포츠·레저용품', '화장품', '아동·유아용품', '음·식료품', '농축수산물',\n",
       "       '생활용품 및 자동차용품', '기 타'], dtype=object)"
      ]
     },
     "execution_count": 22,
     "metadata": {},
     "output_type": "execute_result"
    }
   ],
   "source": [
    "df['상품군별'].unique()"
   ]
  },
  {
   "cell_type": "code",
   "execution_count": 24,
   "id": "3222a6a8",
   "metadata": {
    "ExecuteTime": {
     "end_time": "2022-11-22T08:11:07.996971Z",
     "start_time": "2022-11-22T08:11:07.980443Z"
    }
   },
   "outputs": [],
   "source": [
    "df2 = df[df['국가(대륙)별'].str.contains('미국|중국|일본')]\n",
    "df2 = df2[df2['상품군별'].str.contains('화장품|음반·비디오|의류')]"
   ]
  },
  {
   "cell_type": "code",
   "execution_count": 25,
   "id": "49ac7d07",
   "metadata": {
    "ExecuteTime": {
     "end_time": "2022-11-22T08:13:08.646254Z",
     "start_time": "2022-11-22T08:13:08.624145Z"
    }
   },
   "outputs": [
    {
     "data": {
      "text/plain": [
       "array(['미국', '중국', '일본'], dtype=object)"
      ]
     },
     "execution_count": 25,
     "metadata": {},
     "output_type": "execute_result"
    }
   ],
   "source": [
    "df2['국가(대륙)별'].unique()"
   ]
  },
  {
   "cell_type": "code",
   "execution_count": 26,
   "id": "1aee5899",
   "metadata": {
    "ExecuteTime": {
     "end_time": "2022-11-22T08:13:19.741521Z",
     "start_time": "2022-11-22T08:13:19.726584Z"
    }
   },
   "outputs": [
    {
     "data": {
      "text/plain": [
       "array(['음반·비디오·악기', '의류 및 패션 관련상품', '화장품'], dtype=object)"
      ]
     },
     "execution_count": 26,
     "metadata": {},
     "output_type": "execute_result"
    }
   ],
   "source": [
    "df2['상품군별'].unique()"
   ]
  },
  {
   "cell_type": "code",
   "execution_count": 27,
   "id": "104e30cd",
   "metadata": {
    "ExecuteTime": {
     "end_time": "2022-11-22T08:14:30.723175Z",
     "start_time": "2022-11-22T08:14:30.700099Z"
    }
   },
   "outputs": [
    {
     "data": {
      "text/html": [
       "<div>\n",
       "<style scoped>\n",
       "    .dataframe tbody tr th:only-of-type {\n",
       "        vertical-align: middle;\n",
       "    }\n",
       "\n",
       "    .dataframe tbody tr th {\n",
       "        vertical-align: top;\n",
       "    }\n",
       "\n",
       "    .dataframe thead th {\n",
       "        text-align: right;\n",
       "    }\n",
       "</style>\n",
       "<table border=\"1\" class=\"dataframe\">\n",
       "  <thead>\n",
       "    <tr style=\"text-align: right;\">\n",
       "      <th></th>\n",
       "      <th>국가(대륙)별</th>\n",
       "      <th>상품군별</th>\n",
       "      <th>판매유형별</th>\n",
       "      <th>시점</th>\n",
       "      <th>백만</th>\n",
       "      <th>연도</th>\n",
       "      <th>분기</th>\n",
       "    </tr>\n",
       "  </thead>\n",
       "  <tbody>\n",
       "    <tr>\n",
       "      <th>110</th>\n",
       "      <td>미국</td>\n",
       "      <td>음반·비디오·악기</td>\n",
       "      <td>면세점 이외</td>\n",
       "      <td>2017.1/4</td>\n",
       "      <td>1922.0</td>\n",
       "      <td>2017</td>\n",
       "      <td>1</td>\n",
       "    </tr>\n",
       "    <tr>\n",
       "      <th>111</th>\n",
       "      <td>미국</td>\n",
       "      <td>음반·비디오·악기</td>\n",
       "      <td>면세점 이외</td>\n",
       "      <td>2017.2/4</td>\n",
       "      <td>1778.0</td>\n",
       "      <td>2017</td>\n",
       "      <td>2</td>\n",
       "    </tr>\n",
       "    <tr>\n",
       "      <th>112</th>\n",
       "      <td>미국</td>\n",
       "      <td>음반·비디오·악기</td>\n",
       "      <td>면세점 이외</td>\n",
       "      <td>2017.3/4</td>\n",
       "      <td>2281.0</td>\n",
       "      <td>2017</td>\n",
       "      <td>3</td>\n",
       "    </tr>\n",
       "    <tr>\n",
       "      <th>113</th>\n",
       "      <td>미국</td>\n",
       "      <td>음반·비디오·악기</td>\n",
       "      <td>면세점 이외</td>\n",
       "      <td>2017.4/4</td>\n",
       "      <td>2647.0</td>\n",
       "      <td>2017</td>\n",
       "      <td>4</td>\n",
       "    </tr>\n",
       "    <tr>\n",
       "      <th>114</th>\n",
       "      <td>미국</td>\n",
       "      <td>음반·비디오·악기</td>\n",
       "      <td>면세점 이외</td>\n",
       "      <td>2018.1/4</td>\n",
       "      <td>2362.0</td>\n",
       "      <td>2018</td>\n",
       "      <td>1</td>\n",
       "    </tr>\n",
       "  </tbody>\n",
       "</table>\n",
       "</div>"
      ],
      "text/plain": [
       "    국가(대륙)별       상품군별   판매유형별        시점      백만    연도  분기\n",
       "110      미국  음반·비디오·악기  면세점 이외  2017.1/4  1922.0  2017   1\n",
       "111      미국  음반·비디오·악기  면세점 이외  2017.2/4  1778.0  2017   2\n",
       "112      미국  음반·비디오·악기  면세점 이외  2017.3/4  2281.0  2017   3\n",
       "113      미국  음반·비디오·악기  면세점 이외  2017.4/4  2647.0  2017   4\n",
       "114      미국  음반·비디오·악기  면세점 이외  2018.1/4  2362.0  2018   1"
      ]
     },
     "execution_count": 27,
     "metadata": {},
     "output_type": "execute_result"
    }
   ],
   "source": [
    "df2.head()"
   ]
  },
  {
   "cell_type": "code",
   "execution_count": 35,
   "id": "56f4a29c",
   "metadata": {
    "ExecuteTime": {
     "end_time": "2022-11-22T08:28:51.887223Z",
     "start_time": "2022-11-22T08:28:50.825791Z"
    }
   },
   "outputs": [
    {
     "data": {
      "text/plain": [
       "<seaborn.axisgrid.FacetGrid at 0x1f4f8341160>"
      ]
     },
     "execution_count": 35,
     "metadata": {},
     "output_type": "execute_result"
    },
    {
     "data": {
      "image/png": "[encoded data removed]",
      "text/plain": [
       "<Figure size 1208.62x360 with 3 Axes>"
      ]
     },
     "metadata": {
      "needs_background": "light"
     },
     "output_type": "display_data"
    }
   ],
   "source": [
    "sns.relplot(data=df2, x='연도',y='백만', hue='상품군별',col='국가(대륙)별', kind='line', ci=None)"
   ]
  },
  {
   "cell_type": "markdown",
   "id": "caafe888",
   "metadata": {},
   "source": []
  },
  {
   "cell_type": "code",
   "execution_count": null,
   "id": "e43cf87c",
   "metadata": {},
   "outputs": [],
   "source": []
  }
 ],
 "metadata": {
  "kernelspec": {
   "display_name": "Python 3 (ipykernel)",
   "language": "python",
   "name": "python3"
  },
  "language_info": {
   "codemirror_mode": {
    "name": "ipython",
    "version": 3
   },
   "file_extension": ".py",
   "mimetype": "text/x-python",
   "name": "python",
   "nbconvert_exporter": "python",
   "pygments_lexer": "ipython3",
   "version": "3.8.8"
  },
  "toc": {
   "base_numbering": 1,
   "nav_menu": {},
   "number_sections": true,
   "sideBar": true,
   "skip_h1_title": false,
   "title_cell": "Table of Contents",
   "title_sidebar": "Contents",
   "toc_cell": false,
   "toc_position": {},
   "toc_section_display": true,
   "toc_window_display": false
  }
 },
 "nbformat": 4,
 "nbformat_minor": 5
}
