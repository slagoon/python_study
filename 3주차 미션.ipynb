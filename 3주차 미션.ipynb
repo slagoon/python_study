{
 "cells": [
  {
   "cell_type": "markdown",
   "id": "c8fbed7c",
   "metadata": {},
   "source": [
    "# 3주차 미션"
   ]
  },
  {
   "cell_type": "code",
   "execution_count": 151,
   "id": "d974a822",
   "metadata": {
    "ExecuteTime": {
     "end_time": "2022-11-14T16:07:21.997107Z",
     "start_time": "2022-11-14T16:07:12.236472Z"
    }
   },
   "outputs": [
    {
     "name": "stdout",
     "output_type": "stream",
     "text": [
      "Requirement already satisfied: koreanize-matplotlib in c:\\users\\alsgu\\anaconda3\\lib\\site-packages (0.0.1)\n",
      "Requirement already satisfied: matplotlib in c:\\users\\alsgu\\anaconda3\\lib\\site-packages (from koreanize-matplotlib) (3.4.3)\n",
      "Requirement already satisfied: pillow>=6.2.0 in c:\\users\\alsgu\\anaconda3\\lib\\site-packages (from matplotlib->koreanize-matplotlib) (8.3.1)\n",
      "Requirement already satisfied: python-dateutil>=2.7 in c:\\users\\alsgu\\anaconda3\\lib\\site-packages (from matplotlib->koreanize-matplotlib) (2.8.2)\n",
      "Requirement already satisfied: pyparsing>=2.2.1 in c:\\users\\alsgu\\anaconda3\\lib\\site-packages (from matplotlib->koreanize-matplotlib) (2.4.7)\n",
      "Requirement already satisfied: kiwisolver>=1.0.1 in c:\\users\\alsgu\\anaconda3\\lib\\site-packages (from matplotlib->koreanize-matplotlib) (1.3.2)\n",
      "Requirement already satisfied: cycler>=0.10 in c:\\users\\alsgu\\anaconda3\\lib\\site-packages (from matplotlib->koreanize-matplotlib) (0.10.0)\n",
      "Requirement already satisfied: numpy>=1.16 in c:\\users\\alsgu\\anaconda3\\lib\\site-packages (from matplotlib->koreanize-matplotlib) (1.21.2)\n",
      "Requirement already satisfied: six in c:\\users\\alsgu\\anaconda3\\lib\\site-packages (from cycler>=0.10->matplotlib->koreanize-matplotlib) (1.16.0)\n"
     ]
    }
   ],
   "source": [
    "import pandas as pd\n",
    "import numpy as np\n",
    "import seaborn as sns\n",
    "\n",
    "# 한글폰트 사용을 위해 설치\n",
    "# 아래 모듈을 설치하고 불러오면 별도의 한글폰트 설정이 필요 없습니다.\n",
    "# colab 에서도 아래 설치 문구의 주석을 제거하고 설치하고 import 해주기만 하면 한글폰트가 잘 나옵니다.\n",
    "!pip install koreanize-matplotlib\n",
    "\n",
    "import koreanize_matplotlib\n",
    "\n",
    "# df = pd.read_csv(\"boostcourse-ds-510/data/NHIS_OPEN_GJ_2017.CSV.zip\", encoding=\"cp949\")\n",
    "df = pd.read_csv(\"https://raw.githubusercontent.com/corazzon/boostcourse-ds-510/master/data/NHIS_OPEN_GJ_2017.CSV.zip\",\n",
    "                 encoding=\"cp949\")"
   ]
  },
  {
   "cell_type": "markdown",
   "id": "bff00d9c",
   "metadata": {},
   "source": [
    "## Q1.연령대별 허리둘레에 대한 기술통계를 구하려고 합니다. 다음 제공되는 딕셔너리를 통해 연령대코드(5세단위)를 \"연령대\"로 만들고 아래와 같은 기술통계값을 구해주세요!\n",
    "\n"
   ]
  },
  {
   "cell_type": "code",
   "execution_count": 152,
   "id": "397a06b6",
   "metadata": {
    "ExecuteTime": {
     "end_time": "2022-11-14T16:07:22.012319Z",
     "start_time": "2022-11-14T16:07:22.000203Z"
    }
   },
   "outputs": [],
   "source": [
    "age_code = {1: '0~4세',\n",
    " 2: '5~9세',\n",
    " 3: '10~14세',\n",
    " 4: '15~19세',\n",
    " 5: '20~24세',\n",
    " 6: '25~29세',\n",
    " 7: '30~34세',\n",
    " 8: '35~39세',\n",
    " 9: '40~44세',\n",
    " 10: '45~49세',\n",
    " 11: '50~54세',\n",
    " 12: '55~59세',\n",
    " 13: '60~64세',\n",
    " 14: '65~69세',\n",
    " 15: '70~74세',\n",
    " 16: '75~79세',\n",
    " 17: '80~84세',\n",
    " 18: '85세+'}"
   ]
  },
  {
   "cell_type": "code",
   "execution_count": 153,
   "id": "4d9519f6",
   "metadata": {
    "ExecuteTime": {
     "end_time": "2022-11-14T16:07:22.072767Z",
     "start_time": "2022-11-14T16:07:22.014319Z"
    }
   },
   "outputs": [
    {
     "data": {
      "text/html": [
       "<div>\n",
       "<style scoped>\n",
       "    .dataframe tbody tr th:only-of-type {\n",
       "        vertical-align: middle;\n",
       "    }\n",
       "\n",
       "    .dataframe tbody tr th {\n",
       "        vertical-align: top;\n",
       "    }\n",
       "\n",
       "    .dataframe thead th {\n",
       "        text-align: right;\n",
       "    }\n",
       "</style>\n",
       "<table border=\"1\" class=\"dataframe\">\n",
       "  <thead>\n",
       "    <tr style=\"text-align: right;\">\n",
       "      <th></th>\n",
       "      <th>기준년도</th>\n",
       "      <th>가입자일련번호</th>\n",
       "      <th>성별코드</th>\n",
       "      <th>연령대코드(5세단위)</th>\n",
       "      <th>시도코드</th>\n",
       "      <th>신장(5Cm단위)</th>\n",
       "      <th>체중(5Kg 단위)</th>\n",
       "      <th>허리둘레</th>\n",
       "      <th>시력(좌)</th>\n",
       "      <th>시력(우)</th>\n",
       "      <th>...</th>\n",
       "      <th>감마지티피</th>\n",
       "      <th>흡연상태</th>\n",
       "      <th>음주여부</th>\n",
       "      <th>구강검진 수검여부</th>\n",
       "      <th>치아우식증유무</th>\n",
       "      <th>결손치유무</th>\n",
       "      <th>치아마모증유무</th>\n",
       "      <th>제3대구치(사랑니)이상</th>\n",
       "      <th>치석</th>\n",
       "      <th>데이터공개일자</th>\n",
       "    </tr>\n",
       "  </thead>\n",
       "  <tbody>\n",
       "    <tr>\n",
       "      <th>0</th>\n",
       "      <td>2017</td>\n",
       "      <td>1</td>\n",
       "      <td>1</td>\n",
       "      <td>13</td>\n",
       "      <td>46</td>\n",
       "      <td>170.0</td>\n",
       "      <td>65.0</td>\n",
       "      <td>91.0</td>\n",
       "      <td>1.0</td>\n",
       "      <td>1.2</td>\n",
       "      <td>...</td>\n",
       "      <td>25.0</td>\n",
       "      <td>3.0</td>\n",
       "      <td>0.0</td>\n",
       "      <td>1</td>\n",
       "      <td>NaN</td>\n",
       "      <td>NaN</td>\n",
       "      <td>NaN</td>\n",
       "      <td>NaN</td>\n",
       "      <td>1.0</td>\n",
       "      <td>20181126</td>\n",
       "    </tr>\n",
       "    <tr>\n",
       "      <th>1</th>\n",
       "      <td>2017</td>\n",
       "      <td>2</td>\n",
       "      <td>2</td>\n",
       "      <td>8</td>\n",
       "      <td>41</td>\n",
       "      <td>150.0</td>\n",
       "      <td>45.0</td>\n",
       "      <td>73.4</td>\n",
       "      <td>1.2</td>\n",
       "      <td>1.0</td>\n",
       "      <td>...</td>\n",
       "      <td>10.0</td>\n",
       "      <td>1.0</td>\n",
       "      <td>0.0</td>\n",
       "      <td>1</td>\n",
       "      <td>NaN</td>\n",
       "      <td>NaN</td>\n",
       "      <td>NaN</td>\n",
       "      <td>NaN</td>\n",
       "      <td>1.0</td>\n",
       "      <td>20181126</td>\n",
       "    </tr>\n",
       "    <tr>\n",
       "      <th>2</th>\n",
       "      <td>2017</td>\n",
       "      <td>3</td>\n",
       "      <td>1</td>\n",
       "      <td>8</td>\n",
       "      <td>45</td>\n",
       "      <td>175.0</td>\n",
       "      <td>75.0</td>\n",
       "      <td>94.0</td>\n",
       "      <td>1.0</td>\n",
       "      <td>0.8</td>\n",
       "      <td>...</td>\n",
       "      <td>136.0</td>\n",
       "      <td>1.0</td>\n",
       "      <td>0.0</td>\n",
       "      <td>1</td>\n",
       "      <td>NaN</td>\n",
       "      <td>NaN</td>\n",
       "      <td>NaN</td>\n",
       "      <td>NaN</td>\n",
       "      <td>0.0</td>\n",
       "      <td>20181126</td>\n",
       "    </tr>\n",
       "    <tr>\n",
       "      <th>3</th>\n",
       "      <td>2017</td>\n",
       "      <td>4</td>\n",
       "      <td>2</td>\n",
       "      <td>12</td>\n",
       "      <td>11</td>\n",
       "      <td>155.0</td>\n",
       "      <td>55.0</td>\n",
       "      <td>67.5</td>\n",
       "      <td>0.9</td>\n",
       "      <td>1.0</td>\n",
       "      <td>...</td>\n",
       "      <td>30.0</td>\n",
       "      <td>1.0</td>\n",
       "      <td>1.0</td>\n",
       "      <td>0</td>\n",
       "      <td>NaN</td>\n",
       "      <td>NaN</td>\n",
       "      <td>NaN</td>\n",
       "      <td>NaN</td>\n",
       "      <td>NaN</td>\n",
       "      <td>20181126</td>\n",
       "    </tr>\n",
       "    <tr>\n",
       "      <th>4</th>\n",
       "      <td>2017</td>\n",
       "      <td>5</td>\n",
       "      <td>1</td>\n",
       "      <td>8</td>\n",
       "      <td>41</td>\n",
       "      <td>175.0</td>\n",
       "      <td>75.0</td>\n",
       "      <td>93.0</td>\n",
       "      <td>1.5</td>\n",
       "      <td>1.5</td>\n",
       "      <td>...</td>\n",
       "      <td>68.0</td>\n",
       "      <td>3.0</td>\n",
       "      <td>0.0</td>\n",
       "      <td>0</td>\n",
       "      <td>NaN</td>\n",
       "      <td>NaN</td>\n",
       "      <td>NaN</td>\n",
       "      <td>NaN</td>\n",
       "      <td>NaN</td>\n",
       "      <td>20181126</td>\n",
       "    </tr>\n",
       "  </tbody>\n",
       "</table>\n",
       "<p>5 rows × 34 columns</p>\n",
       "</div>"
      ],
      "text/plain": [
       "   기준년도  가입자일련번호  성별코드  연령대코드(5세단위)  시도코드  신장(5Cm단위)  체중(5Kg 단위)  허리둘레  시력(좌)  \\\n",
       "0  2017        1     1           13    46      170.0        65.0  91.0    1.0   \n",
       "1  2017        2     2            8    41      150.0        45.0  73.4    1.2   \n",
       "2  2017        3     1            8    45      175.0        75.0  94.0    1.0   \n",
       "3  2017        4     2           12    11      155.0        55.0  67.5    0.9   \n",
       "4  2017        5     1            8    41      175.0        75.0  93.0    1.5   \n",
       "\n",
       "   시력(우)  ...  감마지티피  흡연상태  음주여부  구강검진 수검여부  치아우식증유무  결손치유무  치아마모증유무  \\\n",
       "0    1.2  ...   25.0   3.0   0.0          1      NaN    NaN      NaN   \n",
       "1    1.0  ...   10.0   1.0   0.0          1      NaN    NaN      NaN   \n",
       "2    0.8  ...  136.0   1.0   0.0          1      NaN    NaN      NaN   \n",
       "3    1.0  ...   30.0   1.0   1.0          0      NaN    NaN      NaN   \n",
       "4    1.5  ...   68.0   3.0   0.0          0      NaN    NaN      NaN   \n",
       "\n",
       "   제3대구치(사랑니)이상   치석   데이터공개일자  \n",
       "0           NaN  1.0  20181126  \n",
       "1           NaN  1.0  20181126  \n",
       "2           NaN  0.0  20181126  \n",
       "3           NaN  NaN  20181126  \n",
       "4           NaN  NaN  20181126  \n",
       "\n",
       "[5 rows x 34 columns]"
      ]
     },
     "execution_count": 153,
     "metadata": {},
     "output_type": "execute_result"
    }
   ],
   "source": [
    "df.head()"
   ]
  },
  {
   "cell_type": "code",
   "execution_count": 154,
   "id": "da808f7a",
   "metadata": {
    "ExecuteTime": {
     "end_time": "2022-11-14T16:07:22.087455Z",
     "start_time": "2022-11-14T16:07:22.076541Z"
    }
   },
   "outputs": [
    {
     "data": {
      "text/plain": [
       "Index(['기준년도', '가입자일련번호', '성별코드', '연령대코드(5세단위)', '시도코드', '신장(5Cm단위)',\n",
       "       '체중(5Kg 단위)', '허리둘레', '시력(좌)', '시력(우)', '청력(좌)', '청력(우)', '수축기혈압',\n",
       "       '이완기혈압', '식전혈당(공복혈당)', '총콜레스테롤', '트리글리세라이드', 'HDL콜레스테롤', 'LDL콜레스테롤',\n",
       "       '혈색소', '요단백', '혈청크레아티닌', '(혈청지오티)AST', '(혈청지오티)ALT', '감마지티피', '흡연상태',\n",
       "       '음주여부', '구강검진 수검여부', '치아우식증유무', '결손치유무', '치아마모증유무', '제3대구치(사랑니)이상',\n",
       "       '치석', '데이터공개일자'],\n",
       "      dtype='object')"
      ]
     },
     "execution_count": 154,
     "metadata": {},
     "output_type": "execute_result"
    }
   ],
   "source": [
    "df.columns"
   ]
  },
  {
   "cell_type": "code",
   "execution_count": 155,
   "id": "753ae253",
   "metadata": {
    "ExecuteTime": {
     "end_time": "2022-11-14T16:07:22.118680Z",
     "start_time": "2022-11-14T16:07:22.090454Z"
    }
   },
   "outputs": [
    {
     "data": {
      "text/plain": [
       "array([13,  8, 12,  6, 17, 10,  9, 15,  5, 11,  7, 14, 16, 18],\n",
       "      dtype=int64)"
      ]
     },
     "execution_count": 155,
     "metadata": {},
     "output_type": "execute_result"
    }
   ],
   "source": [
    "df['연령대코드(5세단위)'].unique()"
   ]
  },
  {
   "cell_type": "code",
   "execution_count": 156,
   "id": "b4bf0bfe",
   "metadata": {
    "ExecuteTime": {
     "end_time": "2022-11-14T16:07:22.283853Z",
     "start_time": "2022-11-14T16:07:22.120667Z"
    }
   },
   "outputs": [
    {
     "data": {
      "text/plain": [
       "0         60~64세\n",
       "1         35~39세\n",
       "2         35~39세\n",
       "3         55~59세\n",
       "4         35~39세\n",
       "           ...  \n",
       "999995    40~44세\n",
       "999996    40~44세\n",
       "999997    55~59세\n",
       "999998    50~54세\n",
       "999999    40~44세\n",
       "Name: 연령대코드(5세단위), Length: 1000000, dtype: object"
      ]
     },
     "execution_count": 156,
     "metadata": {},
     "output_type": "execute_result"
    }
   ],
   "source": [
    "df['연령대코드(5세단위)'] = df['연령대코드(5세단위)'].replace(age_code)\n",
    "df['연령대코드(5세단위)']"
   ]
  },
  {
   "cell_type": "code",
   "execution_count": 157,
   "id": "112a55a2",
   "metadata": {
    "ExecuteTime": {
     "end_time": "2022-11-14T16:07:22.613598Z",
     "start_time": "2022-11-14T16:07:22.287667Z"
    }
   },
   "outputs": [
    {
     "data": {
      "text/html": [
       "<div>\n",
       "<style scoped>\n",
       "    .dataframe tbody tr th:only-of-type {\n",
       "        vertical-align: middle;\n",
       "    }\n",
       "\n",
       "    .dataframe tbody tr th {\n",
       "        vertical-align: top;\n",
       "    }\n",
       "\n",
       "    .dataframe thead th {\n",
       "        text-align: right;\n",
       "    }\n",
       "</style>\n",
       "<table border=\"1\" class=\"dataframe\">\n",
       "  <thead>\n",
       "    <tr style=\"text-align: right;\">\n",
       "      <th></th>\n",
       "      <th>count</th>\n",
       "      <th>mean</th>\n",
       "      <th>std</th>\n",
       "      <th>min</th>\n",
       "      <th>25%</th>\n",
       "      <th>50%</th>\n",
       "      <th>75%</th>\n",
       "      <th>max</th>\n",
       "    </tr>\n",
       "    <tr>\n",
       "      <th>연령대코드(5세단위)</th>\n",
       "      <th></th>\n",
       "      <th></th>\n",
       "      <th></th>\n",
       "      <th></th>\n",
       "      <th></th>\n",
       "      <th></th>\n",
       "      <th></th>\n",
       "      <th></th>\n",
       "    </tr>\n",
       "  </thead>\n",
       "  <tbody>\n",
       "    <tr>\n",
       "      <th>20~24세</th>\n",
       "      <td>23244.0</td>\n",
       "      <td>75.152220</td>\n",
       "      <td>12.251781</td>\n",
       "      <td>47.5</td>\n",
       "      <td>67.5</td>\n",
       "      <td>73.4</td>\n",
       "      <td>81.0</td>\n",
       "      <td>999.0</td>\n",
       "    </tr>\n",
       "    <tr>\n",
       "      <th>25~29세</th>\n",
       "      <td>64898.0</td>\n",
       "      <td>77.704783</td>\n",
       "      <td>16.735734</td>\n",
       "      <td>48.0</td>\n",
       "      <td>69.0</td>\n",
       "      <td>76.5</td>\n",
       "      <td>84.2</td>\n",
       "      <td>999.0</td>\n",
       "    </tr>\n",
       "    <tr>\n",
       "      <th>30~34세</th>\n",
       "      <td>77517.0</td>\n",
       "      <td>81.089268</td>\n",
       "      <td>22.988111</td>\n",
       "      <td>49.0</td>\n",
       "      <td>72.0</td>\n",
       "      <td>80.1</td>\n",
       "      <td>88.0</td>\n",
       "      <td>999.0</td>\n",
       "    </tr>\n",
       "    <tr>\n",
       "      <th>35~39세</th>\n",
       "      <td>84621.0</td>\n",
       "      <td>82.094012</td>\n",
       "      <td>14.522095</td>\n",
       "      <td>9.2</td>\n",
       "      <td>75.0</td>\n",
       "      <td>82.0</td>\n",
       "      <td>89.0</td>\n",
       "      <td>999.0</td>\n",
       "    </tr>\n",
       "    <tr>\n",
       "      <th>40~44세</th>\n",
       "      <td>130912.0</td>\n",
       "      <td>80.488308</td>\n",
       "      <td>10.803098</td>\n",
       "      <td>42.1</td>\n",
       "      <td>73.0</td>\n",
       "      <td>80.0</td>\n",
       "      <td>87.0</td>\n",
       "      <td>999.0</td>\n",
       "    </tr>\n",
       "    <tr>\n",
       "      <th>45~49세</th>\n",
       "      <td>118357.0</td>\n",
       "      <td>80.822449</td>\n",
       "      <td>9.521622</td>\n",
       "      <td>40.0</td>\n",
       "      <td>74.0</td>\n",
       "      <td>81.0</td>\n",
       "      <td>87.0</td>\n",
       "      <td>137.0</td>\n",
       "    </tr>\n",
       "    <tr>\n",
       "      <th>50~54세</th>\n",
       "      <td>129833.0</td>\n",
       "      <td>81.062754</td>\n",
       "      <td>9.095438</td>\n",
       "      <td>6.5</td>\n",
       "      <td>75.0</td>\n",
       "      <td>81.0</td>\n",
       "      <td>87.0</td>\n",
       "      <td>142.0</td>\n",
       "    </tr>\n",
       "    <tr>\n",
       "      <th>55~59세</th>\n",
       "      <td>112175.0</td>\n",
       "      <td>81.799905</td>\n",
       "      <td>8.730398</td>\n",
       "      <td>32.0</td>\n",
       "      <td>76.0</td>\n",
       "      <td>82.0</td>\n",
       "      <td>87.5</td>\n",
       "      <td>139.0</td>\n",
       "    </tr>\n",
       "    <tr>\n",
       "      <th>60~64세</th>\n",
       "      <td>106491.0</td>\n",
       "      <td>82.722769</td>\n",
       "      <td>8.596176</td>\n",
       "      <td>0.0</td>\n",
       "      <td>77.0</td>\n",
       "      <td>83.0</td>\n",
       "      <td>88.0</td>\n",
       "      <td>137.0</td>\n",
       "    </tr>\n",
       "    <tr>\n",
       "      <th>65~69세</th>\n",
       "      <td>53624.0</td>\n",
       "      <td>83.588500</td>\n",
       "      <td>8.443542</td>\n",
       "      <td>50.0</td>\n",
       "      <td>78.0</td>\n",
       "      <td>83.5</td>\n",
       "      <td>89.0</td>\n",
       "      <td>129.0</td>\n",
       "    </tr>\n",
       "    <tr>\n",
       "      <th>70~74세</th>\n",
       "      <td>51586.0</td>\n",
       "      <td>84.063372</td>\n",
       "      <td>8.539639</td>\n",
       "      <td>51.0</td>\n",
       "      <td>78.0</td>\n",
       "      <td>84.0</td>\n",
       "      <td>90.0</td>\n",
       "      <td>129.8</td>\n",
       "    </tr>\n",
       "    <tr>\n",
       "      <th>75~79세</th>\n",
       "      <td>25972.0</td>\n",
       "      <td>84.200127</td>\n",
       "      <td>8.772306</td>\n",
       "      <td>50.0</td>\n",
       "      <td>78.0</td>\n",
       "      <td>84.0</td>\n",
       "      <td>90.0</td>\n",
       "      <td>122.0</td>\n",
       "    </tr>\n",
       "    <tr>\n",
       "      <th>80~84세</th>\n",
       "      <td>16205.0</td>\n",
       "      <td>83.751435</td>\n",
       "      <td>9.041091</td>\n",
       "      <td>38.0</td>\n",
       "      <td>78.0</td>\n",
       "      <td>84.0</td>\n",
       "      <td>90.0</td>\n",
       "      <td>120.0</td>\n",
       "    </tr>\n",
       "    <tr>\n",
       "      <th>85세+</th>\n",
       "      <td>4125.0</td>\n",
       "      <td>81.736703</td>\n",
       "      <td>17.325969</td>\n",
       "      <td>34.0</td>\n",
       "      <td>75.0</td>\n",
       "      <td>81.5</td>\n",
       "      <td>88.0</td>\n",
       "      <td>999.0</td>\n",
       "    </tr>\n",
       "  </tbody>\n",
       "</table>\n",
       "</div>"
      ],
      "text/plain": [
       "                count       mean        std   min   25%   50%   75%    max\n",
       "연령대코드(5세단위)                                                               \n",
       "20~24세        23244.0  75.152220  12.251781  47.5  67.5  73.4  81.0  999.0\n",
       "25~29세        64898.0  77.704783  16.735734  48.0  69.0  76.5  84.2  999.0\n",
       "30~34세        77517.0  81.089268  22.988111  49.0  72.0  80.1  88.0  999.0\n",
       "35~39세        84621.0  82.094012  14.522095   9.2  75.0  82.0  89.0  999.0\n",
       "40~44세       130912.0  80.488308  10.803098  42.1  73.0  80.0  87.0  999.0\n",
       "45~49세       118357.0  80.822449   9.521622  40.0  74.0  81.0  87.0  137.0\n",
       "50~54세       129833.0  81.062754   9.095438   6.5  75.0  81.0  87.0  142.0\n",
       "55~59세       112175.0  81.799905   8.730398  32.0  76.0  82.0  87.5  139.0\n",
       "60~64세       106491.0  82.722769   8.596176   0.0  77.0  83.0  88.0  137.0\n",
       "65~69세        53624.0  83.588500   8.443542  50.0  78.0  83.5  89.0  129.0\n",
       "70~74세        51586.0  84.063372   8.539639  51.0  78.0  84.0  90.0  129.8\n",
       "75~79세        25972.0  84.200127   8.772306  50.0  78.0  84.0  90.0  122.0\n",
       "80~84세        16205.0  83.751435   9.041091  38.0  78.0  84.0  90.0  120.0\n",
       "85세+           4125.0  81.736703  17.325969  34.0  75.0  81.5  88.0  999.0"
      ]
     },
     "execution_count": 157,
     "metadata": {},
     "output_type": "execute_result"
    }
   ],
   "source": [
    "df.groupby(['연령대코드(5세단위)'])['허리둘레'].describe()"
   ]
  },
  {
   "cell_type": "markdown",
   "id": "a91785cf",
   "metadata": {},
   "source": [
    "## Q2. \"음주여부\", \"흡연상태\", \"연령대코드(5세단위)\", \"성별코드\"에 대한 상관계수를 구하고 시각화 해주세요."
   ]
  },
  {
   "cell_type": "code",
   "execution_count": 158,
   "id": "23c19eb9",
   "metadata": {
    "ExecuteTime": {
     "end_time": "2022-11-14T16:07:22.674869Z",
     "start_time": "2022-11-14T16:07:22.615602Z"
    }
   },
   "outputs": [
    {
     "data": {
      "text/html": [
       "<div>\n",
       "<style scoped>\n",
       "    .dataframe tbody tr th:only-of-type {\n",
       "        vertical-align: middle;\n",
       "    }\n",
       "\n",
       "    .dataframe tbody tr th {\n",
       "        vertical-align: top;\n",
       "    }\n",
       "\n",
       "    .dataframe thead th {\n",
       "        text-align: right;\n",
       "    }\n",
       "</style>\n",
       "<table border=\"1\" class=\"dataframe\">\n",
       "  <thead>\n",
       "    <tr style=\"text-align: right;\">\n",
       "      <th></th>\n",
       "      <th>음주여부</th>\n",
       "      <th>흡연상태</th>\n",
       "      <th>연령대코드(5세단위)</th>\n",
       "      <th>성별코드</th>\n",
       "    </tr>\n",
       "  </thead>\n",
       "  <tbody>\n",
       "    <tr>\n",
       "      <th>0</th>\n",
       "      <td>0.0</td>\n",
       "      <td>3.0</td>\n",
       "      <td>60~64세</td>\n",
       "      <td>1</td>\n",
       "    </tr>\n",
       "    <tr>\n",
       "      <th>1</th>\n",
       "      <td>0.0</td>\n",
       "      <td>1.0</td>\n",
       "      <td>35~39세</td>\n",
       "      <td>2</td>\n",
       "    </tr>\n",
       "    <tr>\n",
       "      <th>2</th>\n",
       "      <td>0.0</td>\n",
       "      <td>1.0</td>\n",
       "      <td>35~39세</td>\n",
       "      <td>1</td>\n",
       "    </tr>\n",
       "    <tr>\n",
       "      <th>3</th>\n",
       "      <td>1.0</td>\n",
       "      <td>1.0</td>\n",
       "      <td>55~59세</td>\n",
       "      <td>2</td>\n",
       "    </tr>\n",
       "    <tr>\n",
       "      <th>4</th>\n",
       "      <td>0.0</td>\n",
       "      <td>3.0</td>\n",
       "      <td>35~39세</td>\n",
       "      <td>1</td>\n",
       "    </tr>\n",
       "  </tbody>\n",
       "</table>\n",
       "</div>"
      ],
      "text/plain": [
       "   음주여부  흡연상태 연령대코드(5세단위)  성별코드\n",
       "0   0.0   3.0      60~64세     1\n",
       "1   0.0   1.0      35~39세     2\n",
       "2   0.0   1.0      35~39세     1\n",
       "3   1.0   1.0      55~59세     2\n",
       "4   0.0   3.0      35~39세     1"
      ]
     },
     "execution_count": 158,
     "metadata": {},
     "output_type": "execute_result"
    }
   ],
   "source": [
    "df2 = df[['음주여부','흡연상태','연령대코드(5세단위)','성별코드']]\n",
    "df2.head()"
   ]
  },
  {
   "cell_type": "code",
   "execution_count": 159,
   "id": "d4ac034f",
   "metadata": {
    "ExecuteTime": {
     "end_time": "2022-11-14T16:07:22.779807Z",
     "start_time": "2022-11-14T16:07:22.677708Z"
    }
   },
   "outputs": [
    {
     "data": {
      "text/html": [
       "<div>\n",
       "<style scoped>\n",
       "    .dataframe tbody tr th:only-of-type {\n",
       "        vertical-align: middle;\n",
       "    }\n",
       "\n",
       "    .dataframe tbody tr th {\n",
       "        vertical-align: top;\n",
       "    }\n",
       "\n",
       "    .dataframe thead th {\n",
       "        text-align: right;\n",
       "    }\n",
       "</style>\n",
       "<table border=\"1\" class=\"dataframe\">\n",
       "  <thead>\n",
       "    <tr style=\"text-align: right;\">\n",
       "      <th></th>\n",
       "      <th>음주여부</th>\n",
       "      <th>흡연상태</th>\n",
       "      <th>성별코드</th>\n",
       "    </tr>\n",
       "  </thead>\n",
       "  <tbody>\n",
       "    <tr>\n",
       "      <th>음주여부</th>\n",
       "      <td>1.000000</td>\n",
       "      <td>0.352014</td>\n",
       "      <td>-0.368630</td>\n",
       "    </tr>\n",
       "    <tr>\n",
       "      <th>흡연상태</th>\n",
       "      <td>0.352014</td>\n",
       "      <td>1.000000</td>\n",
       "      <td>-0.588491</td>\n",
       "    </tr>\n",
       "    <tr>\n",
       "      <th>성별코드</th>\n",
       "      <td>-0.368630</td>\n",
       "      <td>-0.588491</td>\n",
       "      <td>1.000000</td>\n",
       "    </tr>\n",
       "  </tbody>\n",
       "</table>\n",
       "</div>"
      ],
      "text/plain": [
       "          음주여부      흡연상태      성별코드\n",
       "음주여부  1.000000  0.352014 -0.368630\n",
       "흡연상태  0.352014  1.000000 -0.588491\n",
       "성별코드 -0.368630 -0.588491  1.000000"
      ]
     },
     "execution_count": 159,
     "metadata": {},
     "output_type": "execute_result"
    }
   ],
   "source": [
    "df_corr = df2.corr()\n",
    "df_corr"
   ]
  },
  {
   "cell_type": "code",
   "execution_count": 160,
   "id": "634b05d4",
   "metadata": {
    "ExecuteTime": {
     "end_time": "2022-11-14T16:07:22.794793Z",
     "start_time": "2022-11-14T16:07:22.784802Z"
    }
   },
   "outputs": [
    {
     "name": "stderr",
     "output_type": "stream",
     "text": [
      "C:\\Users\\alsgu\\AppData\\Local\\Temp/ipykernel_15556/2190779723.py:1: DeprecationWarning: `np.bool` is a deprecated alias for the builtin `bool`. To silence this warning, use `bool` by itself. Doing this will not modify any behavior and is safe. If you specifically wanted the numpy scalar type, use `np.bool_` here.\n",
      "Deprecated in NumPy 1.20; for more details and guidance: https://numpy.org/devdocs/release/1.20.0-notes.html#deprecations\n",
      "  mask = np.triu(np.ones_like(df_corr, dtype=np.bool))\n"
     ]
    },
    {
     "data": {
      "text/plain": [
       "array([[ True,  True,  True],\n",
       "       [False,  True,  True],\n",
       "       [False, False,  True]])"
      ]
     },
     "execution_count": 160,
     "metadata": {},
     "output_type": "execute_result"
    }
   ],
   "source": [
    "mask = np.triu(np.ones_like(df_corr, dtype=np.bool))\n",
    "mask"
   ]
  },
  {
   "cell_type": "code",
   "execution_count": 161,
   "id": "61efbf0b",
   "metadata": {
    "ExecuteTime": {
     "end_time": "2022-11-14T16:07:23.051090Z",
     "start_time": "2022-11-14T16:07:22.798555Z"
    }
   },
   "outputs": [
    {
     "data": {
      "text/plain": [
       "<AxesSubplot:>"
      ]
     },
     "execution_count": 161,
     "metadata": {},
     "output_type": "execute_result"
    },
    {
     "data": {
      "image/png": "[encoded data removed]",
      "text/plain": [
       "<Figure size 432x288 with 2 Axes>"
      ]
     },
     "metadata": {
      "needs_background": "light"
     },
     "output_type": "display_data"
    }
   ],
   "source": [
    "sns.heatmap(df_corr, mask=mask, annot=True, fmt='.2f', cmap='BuPu')"
   ]
  },
  {
   "cell_type": "markdown",
   "id": "77d46944",
   "metadata": {},
   "source": [
    "## Q3. 흡연하는 사람과 음주하는 사람들의 수는 얼마나 차이가 있을까요?\n",
    "- 건강보험에서 제공하고 있는 데이터는 용량을 줄이기 위해 대부분의 데이터를 숫자 형태로 제공하고 있습니다. replace 기능을 사용하면 딕셔너리의 값을 의미하는 문자 형태로 변경해 볼 수 있습니다. 다음 제공되는 딕셔너리 값을 사용하여 숫자가 의미하는 문자 형태로 변경한 뒤 전체 데이터에서 음주와 흡연에 대한 교차 테이블을 구해 각 해당 빈도수를 구하고 시각화 해주세요!"
   ]
  },
  {
   "cell_type": "code",
   "execution_count": 162,
   "id": "e9ef2a3b",
   "metadata": {
    "ExecuteTime": {
     "end_time": "2022-11-14T16:07:23.065800Z",
     "start_time": "2022-11-14T16:07:23.053037Z"
    }
   },
   "outputs": [],
   "source": [
    "smoke = {1 : \"흡연안함\", 2: \"끊음\", 3: \"흡연중\"}\n",
    "drink = {0: \"안마심\", 1: \"마심\"}"
   ]
  },
  {
   "cell_type": "code",
   "execution_count": 163,
   "id": "7201cadf",
   "metadata": {
    "ExecuteTime": {
     "end_time": "2022-11-14T16:07:23.457075Z",
     "start_time": "2022-11-14T16:07:23.068135Z"
    }
   },
   "outputs": [
    {
     "data": {
      "text/html": [
       "<div>\n",
       "<style scoped>\n",
       "    .dataframe tbody tr th:only-of-type {\n",
       "        vertical-align: middle;\n",
       "    }\n",
       "\n",
       "    .dataframe tbody tr th {\n",
       "        vertical-align: top;\n",
       "    }\n",
       "\n",
       "    .dataframe thead th {\n",
       "        text-align: right;\n",
       "    }\n",
       "</style>\n",
       "<table border=\"1\" class=\"dataframe\">\n",
       "  <thead>\n",
       "    <tr style=\"text-align: right;\">\n",
       "      <th></th>\n",
       "      <th>기준년도</th>\n",
       "      <th>가입자일련번호</th>\n",
       "      <th>성별코드</th>\n",
       "      <th>연령대코드(5세단위)</th>\n",
       "      <th>시도코드</th>\n",
       "      <th>신장(5Cm단위)</th>\n",
       "      <th>체중(5Kg 단위)</th>\n",
       "      <th>허리둘레</th>\n",
       "      <th>시력(좌)</th>\n",
       "      <th>시력(우)</th>\n",
       "      <th>...</th>\n",
       "      <th>감마지티피</th>\n",
       "      <th>흡연상태</th>\n",
       "      <th>음주여부</th>\n",
       "      <th>구강검진 수검여부</th>\n",
       "      <th>치아우식증유무</th>\n",
       "      <th>결손치유무</th>\n",
       "      <th>치아마모증유무</th>\n",
       "      <th>제3대구치(사랑니)이상</th>\n",
       "      <th>치석</th>\n",
       "      <th>데이터공개일자</th>\n",
       "    </tr>\n",
       "  </thead>\n",
       "  <tbody>\n",
       "    <tr>\n",
       "      <th>0</th>\n",
       "      <td>2017</td>\n",
       "      <td>1</td>\n",
       "      <td>1</td>\n",
       "      <td>60~64세</td>\n",
       "      <td>46</td>\n",
       "      <td>170.0</td>\n",
       "      <td>65.0</td>\n",
       "      <td>91.0</td>\n",
       "      <td>1.0</td>\n",
       "      <td>1.2</td>\n",
       "      <td>...</td>\n",
       "      <td>25.0</td>\n",
       "      <td>흡연중</td>\n",
       "      <td>안마심</td>\n",
       "      <td>1</td>\n",
       "      <td>NaN</td>\n",
       "      <td>NaN</td>\n",
       "      <td>NaN</td>\n",
       "      <td>NaN</td>\n",
       "      <td>1.0</td>\n",
       "      <td>20181126</td>\n",
       "    </tr>\n",
       "    <tr>\n",
       "      <th>1</th>\n",
       "      <td>2017</td>\n",
       "      <td>2</td>\n",
       "      <td>2</td>\n",
       "      <td>35~39세</td>\n",
       "      <td>41</td>\n",
       "      <td>150.0</td>\n",
       "      <td>45.0</td>\n",
       "      <td>73.4</td>\n",
       "      <td>1.2</td>\n",
       "      <td>1.0</td>\n",
       "      <td>...</td>\n",
       "      <td>10.0</td>\n",
       "      <td>흡연안함</td>\n",
       "      <td>안마심</td>\n",
       "      <td>1</td>\n",
       "      <td>NaN</td>\n",
       "      <td>NaN</td>\n",
       "      <td>NaN</td>\n",
       "      <td>NaN</td>\n",
       "      <td>1.0</td>\n",
       "      <td>20181126</td>\n",
       "    </tr>\n",
       "    <tr>\n",
       "      <th>2</th>\n",
       "      <td>2017</td>\n",
       "      <td>3</td>\n",
       "      <td>1</td>\n",
       "      <td>35~39세</td>\n",
       "      <td>45</td>\n",
       "      <td>175.0</td>\n",
       "      <td>75.0</td>\n",
       "      <td>94.0</td>\n",
       "      <td>1.0</td>\n",
       "      <td>0.8</td>\n",
       "      <td>...</td>\n",
       "      <td>136.0</td>\n",
       "      <td>흡연안함</td>\n",
       "      <td>안마심</td>\n",
       "      <td>1</td>\n",
       "      <td>NaN</td>\n",
       "      <td>NaN</td>\n",
       "      <td>NaN</td>\n",
       "      <td>NaN</td>\n",
       "      <td>0.0</td>\n",
       "      <td>20181126</td>\n",
       "    </tr>\n",
       "    <tr>\n",
       "      <th>3</th>\n",
       "      <td>2017</td>\n",
       "      <td>4</td>\n",
       "      <td>2</td>\n",
       "      <td>55~59세</td>\n",
       "      <td>11</td>\n",
       "      <td>155.0</td>\n",
       "      <td>55.0</td>\n",
       "      <td>67.5</td>\n",
       "      <td>0.9</td>\n",
       "      <td>1.0</td>\n",
       "      <td>...</td>\n",
       "      <td>30.0</td>\n",
       "      <td>흡연안함</td>\n",
       "      <td>마심</td>\n",
       "      <td>0</td>\n",
       "      <td>NaN</td>\n",
       "      <td>NaN</td>\n",
       "      <td>NaN</td>\n",
       "      <td>NaN</td>\n",
       "      <td>NaN</td>\n",
       "      <td>20181126</td>\n",
       "    </tr>\n",
       "    <tr>\n",
       "      <th>4</th>\n",
       "      <td>2017</td>\n",
       "      <td>5</td>\n",
       "      <td>1</td>\n",
       "      <td>35~39세</td>\n",
       "      <td>41</td>\n",
       "      <td>175.0</td>\n",
       "      <td>75.0</td>\n",
       "      <td>93.0</td>\n",
       "      <td>1.5</td>\n",
       "      <td>1.5</td>\n",
       "      <td>...</td>\n",
       "      <td>68.0</td>\n",
       "      <td>흡연중</td>\n",
       "      <td>안마심</td>\n",
       "      <td>0</td>\n",
       "      <td>NaN</td>\n",
       "      <td>NaN</td>\n",
       "      <td>NaN</td>\n",
       "      <td>NaN</td>\n",
       "      <td>NaN</td>\n",
       "      <td>20181126</td>\n",
       "    </tr>\n",
       "  </tbody>\n",
       "</table>\n",
       "<p>5 rows × 34 columns</p>\n",
       "</div>"
      ],
      "text/plain": [
       "   기준년도  가입자일련번호  성별코드 연령대코드(5세단위)  시도코드  신장(5Cm단위)  체중(5Kg 단위)  허리둘레  시력(좌)  \\\n",
       "0  2017        1     1      60~64세    46      170.0        65.0  91.0    1.0   \n",
       "1  2017        2     2      35~39세    41      150.0        45.0  73.4    1.2   \n",
       "2  2017        3     1      35~39세    45      175.0        75.0  94.0    1.0   \n",
       "3  2017        4     2      55~59세    11      155.0        55.0  67.5    0.9   \n",
       "4  2017        5     1      35~39세    41      175.0        75.0  93.0    1.5   \n",
       "\n",
       "   시력(우)  ...  감마지티피  흡연상태  음주여부  구강검진 수검여부  치아우식증유무  결손치유무  치아마모증유무  \\\n",
       "0    1.2  ...   25.0   흡연중   안마심          1      NaN    NaN      NaN   \n",
       "1    1.0  ...   10.0  흡연안함   안마심          1      NaN    NaN      NaN   \n",
       "2    0.8  ...  136.0  흡연안함   안마심          1      NaN    NaN      NaN   \n",
       "3    1.0  ...   30.0  흡연안함    마심          0      NaN    NaN      NaN   \n",
       "4    1.5  ...   68.0   흡연중   안마심          0      NaN    NaN      NaN   \n",
       "\n",
       "   제3대구치(사랑니)이상   치석   데이터공개일자  \n",
       "0           NaN  1.0  20181126  \n",
       "1           NaN  1.0  20181126  \n",
       "2           NaN  0.0  20181126  \n",
       "3           NaN  NaN  20181126  \n",
       "4           NaN  NaN  20181126  \n",
       "\n",
       "[5 rows x 34 columns]"
      ]
     },
     "execution_count": 163,
     "metadata": {},
     "output_type": "execute_result"
    }
   ],
   "source": [
    "df['흡연상태'] = df2['흡연상태'].replace(smoke)\n",
    "df['음주여부'] = df['음주여부'].replace(drink)\n",
    "df.head()"
   ]
  },
  {
   "cell_type": "code",
   "execution_count": 164,
   "id": "cab51dda",
   "metadata": {
    "ExecuteTime": {
     "end_time": "2022-11-14T16:07:23.801814Z",
     "start_time": "2022-11-14T16:07:23.460916Z"
    }
   },
   "outputs": [
    {
     "data": {
      "text/html": [
       "<div>\n",
       "<style scoped>\n",
       "    .dataframe tbody tr th:only-of-type {\n",
       "        vertical-align: middle;\n",
       "    }\n",
       "\n",
       "    .dataframe tbody tr th {\n",
       "        vertical-align: top;\n",
       "    }\n",
       "\n",
       "    .dataframe thead th {\n",
       "        text-align: right;\n",
       "    }\n",
       "</style>\n",
       "<table border=\"1\" class=\"dataframe\">\n",
       "  <thead>\n",
       "    <tr style=\"text-align: right;\">\n",
       "      <th>흡연상태</th>\n",
       "      <th>끊음</th>\n",
       "      <th>흡연안함</th>\n",
       "      <th>흡연중</th>\n",
       "    </tr>\n",
       "    <tr>\n",
       "      <th>음주여부</th>\n",
       "      <th></th>\n",
       "      <th></th>\n",
       "      <th></th>\n",
       "    </tr>\n",
       "  </thead>\n",
       "  <tbody>\n",
       "    <tr>\n",
       "      <th>마심</th>\n",
       "      <td>120779</td>\n",
       "      <td>213743</td>\n",
       "      <td>162166</td>\n",
       "    </tr>\n",
       "    <tr>\n",
       "      <th>안마심</th>\n",
       "      <td>55334</td>\n",
       "      <td>394503</td>\n",
       "      <td>52845</td>\n",
       "    </tr>\n",
       "  </tbody>\n",
       "</table>\n",
       "</div>"
      ],
      "text/plain": [
       "흡연상태      끊음    흡연안함     흡연중\n",
       "음주여부                        \n",
       "마심    120779  213743  162166\n",
       "안마심    55334  394503   52845"
      ]
     },
     "execution_count": 164,
     "metadata": {},
     "output_type": "execute_result"
    }
   ],
   "source": [
    "df_pivot = pd.crosstab(index=df.음주여부, columns = df.흡연상태)\n",
    "df_pivot"
   ]
  },
  {
   "cell_type": "code",
   "execution_count": 165,
   "id": "44fc612b",
   "metadata": {
    "ExecuteTime": {
     "end_time": "2022-11-14T16:07:25.372504Z",
     "start_time": "2022-11-14T16:07:23.805813Z"
    }
   },
   "outputs": [
    {
     "data": {
      "text/plain": [
       "<AxesSubplot:xlabel='흡연상태', ylabel='count'>"
      ]
     },
     "execution_count": 165,
     "metadata": {},
     "output_type": "execute_result"
    },
    {
     "data": {
      "image/png": "[encoded data removed]",
      "text/plain": [
       "<Figure size 432x288 with 1 Axes>"
      ]
     },
     "metadata": {
      "needs_background": "light"
     },
     "output_type": "display_data"
    }
   ],
   "source": [
    "sns.countplot(data=df, x='흡연상태', hue='음주여부')"
   ]
  },
  {
   "cell_type": "markdown",
   "id": "a42308f7",
   "metadata": {
    "ExecuteTime": {
     "end_time": "2022-11-14T06:30:43.820690Z",
     "start_time": "2022-11-14T06:30:43.812047Z"
    }
   },
   "source": [
    "## Q4. 체중이 120Kg 이상인 데이터를 찾아 \"총콜레스테롤\", \"감마지티피\" 값을 음주여부에 따라 산점도로 시각화해주세요!"
   ]
  },
  {
   "cell_type": "code",
   "execution_count": 166,
   "id": "84ab5024",
   "metadata": {
    "ExecuteTime": {
     "end_time": "2022-11-14T16:07:25.463585Z",
     "start_time": "2022-11-14T16:07:25.375508Z"
    }
   },
   "outputs": [
    {
     "data": {
      "text/html": [
       "<div>\n",
       "<style scoped>\n",
       "    .dataframe tbody tr th:only-of-type {\n",
       "        vertical-align: middle;\n",
       "    }\n",
       "\n",
       "    .dataframe tbody tr th {\n",
       "        vertical-align: top;\n",
       "    }\n",
       "\n",
       "    .dataframe thead th {\n",
       "        text-align: right;\n",
       "    }\n",
       "</style>\n",
       "<table border=\"1\" class=\"dataframe\">\n",
       "  <thead>\n",
       "    <tr style=\"text-align: right;\">\n",
       "      <th></th>\n",
       "      <th>기준년도</th>\n",
       "      <th>가입자일련번호</th>\n",
       "      <th>성별코드</th>\n",
       "      <th>연령대코드(5세단위)</th>\n",
       "      <th>시도코드</th>\n",
       "      <th>신장(5Cm단위)</th>\n",
       "      <th>체중(5Kg 단위)</th>\n",
       "      <th>허리둘레</th>\n",
       "      <th>시력(좌)</th>\n",
       "      <th>시력(우)</th>\n",
       "      <th>...</th>\n",
       "      <th>감마지티피</th>\n",
       "      <th>흡연상태</th>\n",
       "      <th>음주여부</th>\n",
       "      <th>구강검진 수검여부</th>\n",
       "      <th>치아우식증유무</th>\n",
       "      <th>결손치유무</th>\n",
       "      <th>치아마모증유무</th>\n",
       "      <th>제3대구치(사랑니)이상</th>\n",
       "      <th>치석</th>\n",
       "      <th>데이터공개일자</th>\n",
       "    </tr>\n",
       "  </thead>\n",
       "  <tbody>\n",
       "    <tr>\n",
       "      <th>1219</th>\n",
       "      <td>2017</td>\n",
       "      <td>1220</td>\n",
       "      <td>2</td>\n",
       "      <td>25~29세</td>\n",
       "      <td>41</td>\n",
       "      <td>170.0</td>\n",
       "      <td>120.0</td>\n",
       "      <td>116.0</td>\n",
       "      <td>0.7</td>\n",
       "      <td>0.9</td>\n",
       "      <td>...</td>\n",
       "      <td>47.0</td>\n",
       "      <td>흡연중</td>\n",
       "      <td>안마심</td>\n",
       "      <td>0</td>\n",
       "      <td>NaN</td>\n",
       "      <td>NaN</td>\n",
       "      <td>NaN</td>\n",
       "      <td>NaN</td>\n",
       "      <td>NaN</td>\n",
       "      <td>20181126</td>\n",
       "    </tr>\n",
       "    <tr>\n",
       "      <th>2309</th>\n",
       "      <td>2017</td>\n",
       "      <td>2310</td>\n",
       "      <td>1</td>\n",
       "      <td>25~29세</td>\n",
       "      <td>30</td>\n",
       "      <td>190.0</td>\n",
       "      <td>155.0</td>\n",
       "      <td>127.0</td>\n",
       "      <td>0.8</td>\n",
       "      <td>0.9</td>\n",
       "      <td>...</td>\n",
       "      <td>19.0</td>\n",
       "      <td>흡연중</td>\n",
       "      <td>안마심</td>\n",
       "      <td>1</td>\n",
       "      <td>NaN</td>\n",
       "      <td>NaN</td>\n",
       "      <td>NaN</td>\n",
       "      <td>NaN</td>\n",
       "      <td>1.0</td>\n",
       "      <td>20181126</td>\n",
       "    </tr>\n",
       "    <tr>\n",
       "      <th>3497</th>\n",
       "      <td>2017</td>\n",
       "      <td>3498</td>\n",
       "      <td>1</td>\n",
       "      <td>30~34세</td>\n",
       "      <td>46</td>\n",
       "      <td>175.0</td>\n",
       "      <td>120.0</td>\n",
       "      <td>119.0</td>\n",
       "      <td>1.2</td>\n",
       "      <td>1.2</td>\n",
       "      <td>...</td>\n",
       "      <td>111.0</td>\n",
       "      <td>흡연중</td>\n",
       "      <td>마심</td>\n",
       "      <td>0</td>\n",
       "      <td>NaN</td>\n",
       "      <td>NaN</td>\n",
       "      <td>NaN</td>\n",
       "      <td>NaN</td>\n",
       "      <td>NaN</td>\n",
       "      <td>20181126</td>\n",
       "    </tr>\n",
       "    <tr>\n",
       "      <th>3685</th>\n",
       "      <td>2017</td>\n",
       "      <td>3686</td>\n",
       "      <td>1</td>\n",
       "      <td>30~34세</td>\n",
       "      <td>30</td>\n",
       "      <td>180.0</td>\n",
       "      <td>140.0</td>\n",
       "      <td>127.0</td>\n",
       "      <td>1.5</td>\n",
       "      <td>1.5</td>\n",
       "      <td>...</td>\n",
       "      <td>58.0</td>\n",
       "      <td>끊음</td>\n",
       "      <td>안마심</td>\n",
       "      <td>1</td>\n",
       "      <td>NaN</td>\n",
       "      <td>NaN</td>\n",
       "      <td>NaN</td>\n",
       "      <td>NaN</td>\n",
       "      <td>0.0</td>\n",
       "      <td>20181126</td>\n",
       "    </tr>\n",
       "    <tr>\n",
       "      <th>5788</th>\n",
       "      <td>2017</td>\n",
       "      <td>5789</td>\n",
       "      <td>1</td>\n",
       "      <td>35~39세</td>\n",
       "      <td>41</td>\n",
       "      <td>175.0</td>\n",
       "      <td>140.0</td>\n",
       "      <td>124.0</td>\n",
       "      <td>1.0</td>\n",
       "      <td>1.0</td>\n",
       "      <td>...</td>\n",
       "      <td>35.0</td>\n",
       "      <td>흡연안함</td>\n",
       "      <td>안마심</td>\n",
       "      <td>0</td>\n",
       "      <td>NaN</td>\n",
       "      <td>NaN</td>\n",
       "      <td>NaN</td>\n",
       "      <td>NaN</td>\n",
       "      <td>NaN</td>\n",
       "      <td>20181126</td>\n",
       "    </tr>\n",
       "    <tr>\n",
       "      <th>...</th>\n",
       "      <td>...</td>\n",
       "      <td>...</td>\n",
       "      <td>...</td>\n",
       "      <td>...</td>\n",
       "      <td>...</td>\n",
       "      <td>...</td>\n",
       "      <td>...</td>\n",
       "      <td>...</td>\n",
       "      <td>...</td>\n",
       "      <td>...</td>\n",
       "      <td>...</td>\n",
       "      <td>...</td>\n",
       "      <td>...</td>\n",
       "      <td>...</td>\n",
       "      <td>...</td>\n",
       "      <td>...</td>\n",
       "      <td>...</td>\n",
       "      <td>...</td>\n",
       "      <td>...</td>\n",
       "      <td>...</td>\n",
       "      <td>...</td>\n",
       "    </tr>\n",
       "    <tr>\n",
       "      <th>996544</th>\n",
       "      <td>2017</td>\n",
       "      <td>996545</td>\n",
       "      <td>1</td>\n",
       "      <td>35~39세</td>\n",
       "      <td>41</td>\n",
       "      <td>175.0</td>\n",
       "      <td>125.0</td>\n",
       "      <td>121.0</td>\n",
       "      <td>1.2</td>\n",
       "      <td>1.2</td>\n",
       "      <td>...</td>\n",
       "      <td>76.0</td>\n",
       "      <td>흡연중</td>\n",
       "      <td>마심</td>\n",
       "      <td>1</td>\n",
       "      <td>NaN</td>\n",
       "      <td>NaN</td>\n",
       "      <td>NaN</td>\n",
       "      <td>NaN</td>\n",
       "      <td>1.0</td>\n",
       "      <td>20181126</td>\n",
       "    </tr>\n",
       "    <tr>\n",
       "      <th>996828</th>\n",
       "      <td>2017</td>\n",
       "      <td>996829</td>\n",
       "      <td>1</td>\n",
       "      <td>25~29세</td>\n",
       "      <td>47</td>\n",
       "      <td>180.0</td>\n",
       "      <td>120.0</td>\n",
       "      <td>109.0</td>\n",
       "      <td>1.5</td>\n",
       "      <td>1.5</td>\n",
       "      <td>...</td>\n",
       "      <td>82.0</td>\n",
       "      <td>흡연중</td>\n",
       "      <td>마심</td>\n",
       "      <td>1</td>\n",
       "      <td>NaN</td>\n",
       "      <td>NaN</td>\n",
       "      <td>NaN</td>\n",
       "      <td>NaN</td>\n",
       "      <td>1.0</td>\n",
       "      <td>20181126</td>\n",
       "    </tr>\n",
       "    <tr>\n",
       "      <th>997152</th>\n",
       "      <td>2017</td>\n",
       "      <td>997153</td>\n",
       "      <td>1</td>\n",
       "      <td>20~24세</td>\n",
       "      <td>47</td>\n",
       "      <td>180.0</td>\n",
       "      <td>120.0</td>\n",
       "      <td>115.0</td>\n",
       "      <td>0.7</td>\n",
       "      <td>0.8</td>\n",
       "      <td>...</td>\n",
       "      <td>165.0</td>\n",
       "      <td>흡연안함</td>\n",
       "      <td>안마심</td>\n",
       "      <td>0</td>\n",
       "      <td>NaN</td>\n",
       "      <td>NaN</td>\n",
       "      <td>NaN</td>\n",
       "      <td>NaN</td>\n",
       "      <td>NaN</td>\n",
       "      <td>20181126</td>\n",
       "    </tr>\n",
       "    <tr>\n",
       "      <th>997414</th>\n",
       "      <td>2017</td>\n",
       "      <td>997415</td>\n",
       "      <td>1</td>\n",
       "      <td>30~34세</td>\n",
       "      <td>46</td>\n",
       "      <td>170.0</td>\n",
       "      <td>135.0</td>\n",
       "      <td>129.0</td>\n",
       "      <td>1.0</td>\n",
       "      <td>1.2</td>\n",
       "      <td>...</td>\n",
       "      <td>62.0</td>\n",
       "      <td>흡연중</td>\n",
       "      <td>안마심</td>\n",
       "      <td>0</td>\n",
       "      <td>NaN</td>\n",
       "      <td>NaN</td>\n",
       "      <td>NaN</td>\n",
       "      <td>NaN</td>\n",
       "      <td>NaN</td>\n",
       "      <td>20181126</td>\n",
       "    </tr>\n",
       "    <tr>\n",
       "      <th>997486</th>\n",
       "      <td>2017</td>\n",
       "      <td>997487</td>\n",
       "      <td>1</td>\n",
       "      <td>30~34세</td>\n",
       "      <td>42</td>\n",
       "      <td>180.0</td>\n",
       "      <td>125.0</td>\n",
       "      <td>107.0</td>\n",
       "      <td>1.0</td>\n",
       "      <td>1.0</td>\n",
       "      <td>...</td>\n",
       "      <td>95.0</td>\n",
       "      <td>흡연중</td>\n",
       "      <td>안마심</td>\n",
       "      <td>1</td>\n",
       "      <td>NaN</td>\n",
       "      <td>NaN</td>\n",
       "      <td>NaN</td>\n",
       "      <td>NaN</td>\n",
       "      <td>0.0</td>\n",
       "      <td>20181126</td>\n",
       "    </tr>\n",
       "  </tbody>\n",
       "</table>\n",
       "<p>1181 rows × 34 columns</p>\n",
       "</div>"
      ],
      "text/plain": [
       "        기준년도  가입자일련번호  성별코드 연령대코드(5세단위)  시도코드  신장(5Cm단위)  체중(5Kg 단위)   허리둘레  \\\n",
       "1219    2017     1220     2      25~29세    41      170.0       120.0  116.0   \n",
       "2309    2017     2310     1      25~29세    30      190.0       155.0  127.0   \n",
       "3497    2017     3498     1      30~34세    46      175.0       120.0  119.0   \n",
       "3685    2017     3686     1      30~34세    30      180.0       140.0  127.0   \n",
       "5788    2017     5789     1      35~39세    41      175.0       140.0  124.0   \n",
       "...      ...      ...   ...         ...   ...        ...         ...    ...   \n",
       "996544  2017   996545     1      35~39세    41      175.0       125.0  121.0   \n",
       "996828  2017   996829     1      25~29세    47      180.0       120.0  109.0   \n",
       "997152  2017   997153     1      20~24세    47      180.0       120.0  115.0   \n",
       "997414  2017   997415     1      30~34세    46      170.0       135.0  129.0   \n",
       "997486  2017   997487     1      30~34세    42      180.0       125.0  107.0   \n",
       "\n",
       "        시력(좌)  시력(우)  ...  감마지티피  흡연상태  음주여부  구강검진 수검여부  치아우식증유무  결손치유무  \\\n",
       "1219      0.7    0.9  ...   47.0   흡연중   안마심          0      NaN    NaN   \n",
       "2309      0.8    0.9  ...   19.0   흡연중   안마심          1      NaN    NaN   \n",
       "3497      1.2    1.2  ...  111.0   흡연중    마심          0      NaN    NaN   \n",
       "3685      1.5    1.5  ...   58.0    끊음   안마심          1      NaN    NaN   \n",
       "5788      1.0    1.0  ...   35.0  흡연안함   안마심          0      NaN    NaN   \n",
       "...       ...    ...  ...    ...   ...   ...        ...      ...    ...   \n",
       "996544    1.2    1.2  ...   76.0   흡연중    마심          1      NaN    NaN   \n",
       "996828    1.5    1.5  ...   82.0   흡연중    마심          1      NaN    NaN   \n",
       "997152    0.7    0.8  ...  165.0  흡연안함   안마심          0      NaN    NaN   \n",
       "997414    1.0    1.2  ...   62.0   흡연중   안마심          0      NaN    NaN   \n",
       "997486    1.0    1.0  ...   95.0   흡연중   안마심          1      NaN    NaN   \n",
       "\n",
       "        치아마모증유무  제3대구치(사랑니)이상   치석   데이터공개일자  \n",
       "1219        NaN           NaN  NaN  20181126  \n",
       "2309        NaN           NaN  1.0  20181126  \n",
       "3497        NaN           NaN  NaN  20181126  \n",
       "3685        NaN           NaN  0.0  20181126  \n",
       "5788        NaN           NaN  NaN  20181126  \n",
       "...         ...           ...  ...       ...  \n",
       "996544      NaN           NaN  1.0  20181126  \n",
       "996828      NaN           NaN  1.0  20181126  \n",
       "997152      NaN           NaN  NaN  20181126  \n",
       "997414      NaN           NaN  NaN  20181126  \n",
       "997486      NaN           NaN  0.0  20181126  \n",
       "\n",
       "[1181 rows x 34 columns]"
      ]
     },
     "execution_count": 166,
     "metadata": {},
     "output_type": "execute_result"
    }
   ],
   "source": [
    "df1 = df[df['체중(5Kg 단위)']>=120]\n",
    "df1"
   ]
  },
  {
   "cell_type": "code",
   "execution_count": 167,
   "id": "1ff602ed",
   "metadata": {
    "ExecuteTime": {
     "end_time": "2022-11-14T16:07:27.432619Z",
     "start_time": "2022-11-14T16:07:25.466605Z"
    }
   },
   "outputs": [
    {
     "data": {
      "text/plain": [
       "<seaborn.axisgrid.FacetGrid at 0x1c99e54ef70>"
      ]
     },
     "execution_count": 167,
     "metadata": {},
     "output_type": "execute_result"
    },
    {
     "data": {
      "image/png": "[encoded data removed]",
      "text/plain": [
       "<Figure size 1144.12x360 with 3 Axes>"
      ]
     },
     "metadata": {
      "needs_background": "light"
     },
     "output_type": "display_data"
    }
   ],
   "source": [
    "sns.lmplot(data=df1, x='총콜레스테롤',y='감마지티피', hue='음주여부', col='흡연상태')"
   ]
  },
  {
   "cell_type": "markdown",
   "id": "58a22193",
   "metadata": {},
   "source": [
    "## Q5. 연령대별로 시력은 얼마나 차이가 날까요? 연령대, 성별 좌우 평균 시력을 시각화 해주세요!\n",
    "- 시력은 0.1~2.5 사이의 값으로 표기하며 0.1 이하의 시력은 0.1, 실명은 9.9로 표기합니다.\n",
    "\n",
    "- 실명인 데이터를 평균에 포함하게 되면 시력에 대한 평균을 제대로 구하기 어렵습니다. 실명 데이터를 제외하고 연령대, 성별에 따른 평균 좌우 시력을 구해주세요!\n",
    "\n",
    "- 서브플롯으로 시각화하여 표현해 주고 matplotlib 에 대한 사용법은 다음의 영상도 함께 참고해 주세요! (https://www.youtube.com/watch?v=ZTRKojTLE8M)\n",
    "\n",
    "- 시각화 예시는 참고사항으로 스타일이나 폰트 구성이 달라도 연령대, 성별 좌우평균시력을 시각화 하면 됩니다."
   ]
  },
  {
   "cell_type": "code",
   "execution_count": 168,
   "id": "de26d5e1",
   "metadata": {
    "ExecuteTime": {
     "end_time": "2022-11-14T16:07:27.447384Z",
     "start_time": "2022-11-14T16:07:27.434432Z"
    }
   },
   "outputs": [],
   "source": [
    "import matplotlib.pyplot as plt"
   ]
  },
  {
   "cell_type": "code",
   "execution_count": 169,
   "id": "83243030",
   "metadata": {
    "ExecuteTime": {
     "end_time": "2022-11-14T16:07:28.002204Z",
     "start_time": "2022-11-14T16:07:27.450384Z"
    }
   },
   "outputs": [
    {
     "data": {
      "text/html": [
       "<div>\n",
       "<style scoped>\n",
       "    .dataframe tbody tr th:only-of-type {\n",
       "        vertical-align: middle;\n",
       "    }\n",
       "\n",
       "    .dataframe tbody tr th {\n",
       "        vertical-align: top;\n",
       "    }\n",
       "\n",
       "    .dataframe thead th {\n",
       "        text-align: right;\n",
       "    }\n",
       "</style>\n",
       "<table border=\"1\" class=\"dataframe\">\n",
       "  <thead>\n",
       "    <tr style=\"text-align: right;\">\n",
       "      <th></th>\n",
       "      <th>기준년도</th>\n",
       "      <th>가입자일련번호</th>\n",
       "      <th>성별코드</th>\n",
       "      <th>연령대코드(5세단위)</th>\n",
       "      <th>시도코드</th>\n",
       "      <th>신장(5Cm단위)</th>\n",
       "      <th>체중(5Kg 단위)</th>\n",
       "      <th>허리둘레</th>\n",
       "      <th>시력(좌)</th>\n",
       "      <th>시력(우)</th>\n",
       "      <th>...</th>\n",
       "      <th>감마지티피</th>\n",
       "      <th>흡연상태</th>\n",
       "      <th>음주여부</th>\n",
       "      <th>구강검진 수검여부</th>\n",
       "      <th>치아우식증유무</th>\n",
       "      <th>결손치유무</th>\n",
       "      <th>치아마모증유무</th>\n",
       "      <th>제3대구치(사랑니)이상</th>\n",
       "      <th>치석</th>\n",
       "      <th>데이터공개일자</th>\n",
       "    </tr>\n",
       "  </thead>\n",
       "  <tbody>\n",
       "    <tr>\n",
       "      <th>0</th>\n",
       "      <td>2017</td>\n",
       "      <td>1</td>\n",
       "      <td>1</td>\n",
       "      <td>60~64세</td>\n",
       "      <td>46</td>\n",
       "      <td>170.0</td>\n",
       "      <td>65.0</td>\n",
       "      <td>91.0</td>\n",
       "      <td>1.0</td>\n",
       "      <td>1.2</td>\n",
       "      <td>...</td>\n",
       "      <td>25.0</td>\n",
       "      <td>흡연중</td>\n",
       "      <td>안마심</td>\n",
       "      <td>1</td>\n",
       "      <td>NaN</td>\n",
       "      <td>NaN</td>\n",
       "      <td>NaN</td>\n",
       "      <td>NaN</td>\n",
       "      <td>1.0</td>\n",
       "      <td>20181126</td>\n",
       "    </tr>\n",
       "    <tr>\n",
       "      <th>1</th>\n",
       "      <td>2017</td>\n",
       "      <td>2</td>\n",
       "      <td>2</td>\n",
       "      <td>35~39세</td>\n",
       "      <td>41</td>\n",
       "      <td>150.0</td>\n",
       "      <td>45.0</td>\n",
       "      <td>73.4</td>\n",
       "      <td>1.2</td>\n",
       "      <td>1.0</td>\n",
       "      <td>...</td>\n",
       "      <td>10.0</td>\n",
       "      <td>흡연안함</td>\n",
       "      <td>안마심</td>\n",
       "      <td>1</td>\n",
       "      <td>NaN</td>\n",
       "      <td>NaN</td>\n",
       "      <td>NaN</td>\n",
       "      <td>NaN</td>\n",
       "      <td>1.0</td>\n",
       "      <td>20181126</td>\n",
       "    </tr>\n",
       "    <tr>\n",
       "      <th>2</th>\n",
       "      <td>2017</td>\n",
       "      <td>3</td>\n",
       "      <td>1</td>\n",
       "      <td>35~39세</td>\n",
       "      <td>45</td>\n",
       "      <td>175.0</td>\n",
       "      <td>75.0</td>\n",
       "      <td>94.0</td>\n",
       "      <td>1.0</td>\n",
       "      <td>0.8</td>\n",
       "      <td>...</td>\n",
       "      <td>136.0</td>\n",
       "      <td>흡연안함</td>\n",
       "      <td>안마심</td>\n",
       "      <td>1</td>\n",
       "      <td>NaN</td>\n",
       "      <td>NaN</td>\n",
       "      <td>NaN</td>\n",
       "      <td>NaN</td>\n",
       "      <td>0.0</td>\n",
       "      <td>20181126</td>\n",
       "    </tr>\n",
       "    <tr>\n",
       "      <th>3</th>\n",
       "      <td>2017</td>\n",
       "      <td>4</td>\n",
       "      <td>2</td>\n",
       "      <td>55~59세</td>\n",
       "      <td>11</td>\n",
       "      <td>155.0</td>\n",
       "      <td>55.0</td>\n",
       "      <td>67.5</td>\n",
       "      <td>0.9</td>\n",
       "      <td>1.0</td>\n",
       "      <td>...</td>\n",
       "      <td>30.0</td>\n",
       "      <td>흡연안함</td>\n",
       "      <td>마심</td>\n",
       "      <td>0</td>\n",
       "      <td>NaN</td>\n",
       "      <td>NaN</td>\n",
       "      <td>NaN</td>\n",
       "      <td>NaN</td>\n",
       "      <td>NaN</td>\n",
       "      <td>20181126</td>\n",
       "    </tr>\n",
       "    <tr>\n",
       "      <th>4</th>\n",
       "      <td>2017</td>\n",
       "      <td>5</td>\n",
       "      <td>1</td>\n",
       "      <td>35~39세</td>\n",
       "      <td>41</td>\n",
       "      <td>175.0</td>\n",
       "      <td>75.0</td>\n",
       "      <td>93.0</td>\n",
       "      <td>1.5</td>\n",
       "      <td>1.5</td>\n",
       "      <td>...</td>\n",
       "      <td>68.0</td>\n",
       "      <td>흡연중</td>\n",
       "      <td>안마심</td>\n",
       "      <td>0</td>\n",
       "      <td>NaN</td>\n",
       "      <td>NaN</td>\n",
       "      <td>NaN</td>\n",
       "      <td>NaN</td>\n",
       "      <td>NaN</td>\n",
       "      <td>20181126</td>\n",
       "    </tr>\n",
       "    <tr>\n",
       "      <th>...</th>\n",
       "      <td>...</td>\n",
       "      <td>...</td>\n",
       "      <td>...</td>\n",
       "      <td>...</td>\n",
       "      <td>...</td>\n",
       "      <td>...</td>\n",
       "      <td>...</td>\n",
       "      <td>...</td>\n",
       "      <td>...</td>\n",
       "      <td>...</td>\n",
       "      <td>...</td>\n",
       "      <td>...</td>\n",
       "      <td>...</td>\n",
       "      <td>...</td>\n",
       "      <td>...</td>\n",
       "      <td>...</td>\n",
       "      <td>...</td>\n",
       "      <td>...</td>\n",
       "      <td>...</td>\n",
       "      <td>...</td>\n",
       "      <td>...</td>\n",
       "    </tr>\n",
       "    <tr>\n",
       "      <th>999995</th>\n",
       "      <td>2017</td>\n",
       "      <td>999996</td>\n",
       "      <td>2</td>\n",
       "      <td>40~44세</td>\n",
       "      <td>41</td>\n",
       "      <td>165.0</td>\n",
       "      <td>55.0</td>\n",
       "      <td>70.0</td>\n",
       "      <td>1.5</td>\n",
       "      <td>1.5</td>\n",
       "      <td>...</td>\n",
       "      <td>11.0</td>\n",
       "      <td>흡연안함</td>\n",
       "      <td>마심</td>\n",
       "      <td>0</td>\n",
       "      <td>NaN</td>\n",
       "      <td>NaN</td>\n",
       "      <td>NaN</td>\n",
       "      <td>NaN</td>\n",
       "      <td>NaN</td>\n",
       "      <td>20181126</td>\n",
       "    </tr>\n",
       "    <tr>\n",
       "      <th>999996</th>\n",
       "      <td>2017</td>\n",
       "      <td>999997</td>\n",
       "      <td>2</td>\n",
       "      <td>40~44세</td>\n",
       "      <td>11</td>\n",
       "      <td>165.0</td>\n",
       "      <td>50.0</td>\n",
       "      <td>68.0</td>\n",
       "      <td>1.2</td>\n",
       "      <td>1.5</td>\n",
       "      <td>...</td>\n",
       "      <td>11.0</td>\n",
       "      <td>흡연안함</td>\n",
       "      <td>안마심</td>\n",
       "      <td>1</td>\n",
       "      <td>NaN</td>\n",
       "      <td>NaN</td>\n",
       "      <td>NaN</td>\n",
       "      <td>NaN</td>\n",
       "      <td>0.0</td>\n",
       "      <td>20181126</td>\n",
       "    </tr>\n",
       "    <tr>\n",
       "      <th>999997</th>\n",
       "      <td>2017</td>\n",
       "      <td>999998</td>\n",
       "      <td>2</td>\n",
       "      <td>55~59세</td>\n",
       "      <td>27</td>\n",
       "      <td>155.0</td>\n",
       "      <td>50.0</td>\n",
       "      <td>83.8</td>\n",
       "      <td>0.2</td>\n",
       "      <td>1.0</td>\n",
       "      <td>...</td>\n",
       "      <td>12.0</td>\n",
       "      <td>흡연안함</td>\n",
       "      <td>안마심</td>\n",
       "      <td>1</td>\n",
       "      <td>NaN</td>\n",
       "      <td>NaN</td>\n",
       "      <td>NaN</td>\n",
       "      <td>NaN</td>\n",
       "      <td>0.0</td>\n",
       "      <td>20181126</td>\n",
       "    </tr>\n",
       "    <tr>\n",
       "      <th>999998</th>\n",
       "      <td>2017</td>\n",
       "      <td>999999</td>\n",
       "      <td>1</td>\n",
       "      <td>50~54세</td>\n",
       "      <td>47</td>\n",
       "      <td>160.0</td>\n",
       "      <td>70.0</td>\n",
       "      <td>99.0</td>\n",
       "      <td>0.8</td>\n",
       "      <td>0.9</td>\n",
       "      <td>...</td>\n",
       "      <td>35.0</td>\n",
       "      <td>끊음</td>\n",
       "      <td>마심</td>\n",
       "      <td>0</td>\n",
       "      <td>NaN</td>\n",
       "      <td>NaN</td>\n",
       "      <td>NaN</td>\n",
       "      <td>NaN</td>\n",
       "      <td>NaN</td>\n",
       "      <td>20181126</td>\n",
       "    </tr>\n",
       "    <tr>\n",
       "      <th>999999</th>\n",
       "      <td>2017</td>\n",
       "      <td>1000000</td>\n",
       "      <td>2</td>\n",
       "      <td>40~44세</td>\n",
       "      <td>27</td>\n",
       "      <td>165.0</td>\n",
       "      <td>60.0</td>\n",
       "      <td>74.0</td>\n",
       "      <td>1.2</td>\n",
       "      <td>1.2</td>\n",
       "      <td>...</td>\n",
       "      <td>15.0</td>\n",
       "      <td>흡연안함</td>\n",
       "      <td>안마심</td>\n",
       "      <td>0</td>\n",
       "      <td>NaN</td>\n",
       "      <td>NaN</td>\n",
       "      <td>NaN</td>\n",
       "      <td>NaN</td>\n",
       "      <td>NaN</td>\n",
       "      <td>20181126</td>\n",
       "    </tr>\n",
       "  </tbody>\n",
       "</table>\n",
       "<p>1000000 rows × 34 columns</p>\n",
       "</div>"
      ],
      "text/plain": [
       "        기준년도  가입자일련번호  성별코드 연령대코드(5세단위)  시도코드  신장(5Cm단위)  체중(5Kg 단위)  허리둘레  \\\n",
       "0       2017        1     1      60~64세    46      170.0        65.0  91.0   \n",
       "1       2017        2     2      35~39세    41      150.0        45.0  73.4   \n",
       "2       2017        3     1      35~39세    45      175.0        75.0  94.0   \n",
       "3       2017        4     2      55~59세    11      155.0        55.0  67.5   \n",
       "4       2017        5     1      35~39세    41      175.0        75.0  93.0   \n",
       "...      ...      ...   ...         ...   ...        ...         ...   ...   \n",
       "999995  2017   999996     2      40~44세    41      165.0        55.0  70.0   \n",
       "999996  2017   999997     2      40~44세    11      165.0        50.0  68.0   \n",
       "999997  2017   999998     2      55~59세    27      155.0        50.0  83.8   \n",
       "999998  2017   999999     1      50~54세    47      160.0        70.0  99.0   \n",
       "999999  2017  1000000     2      40~44세    27      165.0        60.0  74.0   \n",
       "\n",
       "        시력(좌)  시력(우)  ...  감마지티피  흡연상태  음주여부  구강검진 수검여부  치아우식증유무  결손치유무  \\\n",
       "0         1.0    1.2  ...   25.0   흡연중   안마심          1      NaN    NaN   \n",
       "1         1.2    1.0  ...   10.0  흡연안함   안마심          1      NaN    NaN   \n",
       "2         1.0    0.8  ...  136.0  흡연안함   안마심          1      NaN    NaN   \n",
       "3         0.9    1.0  ...   30.0  흡연안함    마심          0      NaN    NaN   \n",
       "4         1.5    1.5  ...   68.0   흡연중   안마심          0      NaN    NaN   \n",
       "...       ...    ...  ...    ...   ...   ...        ...      ...    ...   \n",
       "999995    1.5    1.5  ...   11.0  흡연안함    마심          0      NaN    NaN   \n",
       "999996    1.2    1.5  ...   11.0  흡연안함   안마심          1      NaN    NaN   \n",
       "999997    0.2    1.0  ...   12.0  흡연안함   안마심          1      NaN    NaN   \n",
       "999998    0.8    0.9  ...   35.0    끊음    마심          0      NaN    NaN   \n",
       "999999    1.2    1.2  ...   15.0  흡연안함   안마심          0      NaN    NaN   \n",
       "\n",
       "        치아마모증유무  제3대구치(사랑니)이상   치석   데이터공개일자  \n",
       "0           NaN           NaN  1.0  20181126  \n",
       "1           NaN           NaN  1.0  20181126  \n",
       "2           NaN           NaN  0.0  20181126  \n",
       "3           NaN           NaN  NaN  20181126  \n",
       "4           NaN           NaN  NaN  20181126  \n",
       "...         ...           ...  ...       ...  \n",
       "999995      NaN           NaN  NaN  20181126  \n",
       "999996      NaN           NaN  0.0  20181126  \n",
       "999997      NaN           NaN  0.0  20181126  \n",
       "999998      NaN           NaN  NaN  20181126  \n",
       "999999      NaN           NaN  NaN  20181126  \n",
       "\n",
       "[1000000 rows x 34 columns]"
      ]
     },
     "execution_count": 169,
     "metadata": {},
     "output_type": "execute_result"
    }
   ],
   "source": [
    "df"
   ]
  },
  {
   "cell_type": "code",
   "execution_count": 170,
   "id": "6fde37e9",
   "metadata": {
    "ExecuteTime": {
     "end_time": "2022-11-14T16:07:28.048176Z",
     "start_time": "2022-11-14T16:07:28.005177Z"
    }
   },
   "outputs": [
    {
     "data": {
      "text/plain": [
       "array([1. , 1.2, 0.9, 1.5, 0.8, 0.7, 0.6, 0.2, 0.4, 0.5, 0.3, 0.1, 2. ,\n",
       "       9.9, nan, 1.9, 1.6, 1.3, 1.7, 1.1, 2.5, 1.4, 1.8, 2.2, 2.1])"
      ]
     },
     "execution_count": 170,
     "metadata": {},
     "output_type": "execute_result"
    }
   ],
   "source": [
    "df['시력(좌)'].unique()"
   ]
  },
  {
   "cell_type": "code",
   "execution_count": 171,
   "id": "3aa61b8b",
   "metadata": {
    "ExecuteTime": {
     "end_time": "2022-11-14T16:07:28.093304Z",
     "start_time": "2022-11-14T16:07:28.051437Z"
    }
   },
   "outputs": [
    {
     "data": {
      "text/plain": [
       "array([1.2, 1. , 0.8, 1.5, 0.7, 0.9, 0.5, 0.2, 0.4, 0.3, 2. , 0.6, 0.1,\n",
       "       9.9, nan, 1.6, 1.3, 1.9, 1.1, 1.7, 2.1, 1.8, 1.4, 2.5, 2.3])"
      ]
     },
     "execution_count": 171,
     "metadata": {},
     "output_type": "execute_result"
    }
   ],
   "source": [
    "df['시력(우)'].unique()"
   ]
  },
  {
   "cell_type": "code",
   "execution_count": 172,
   "id": "89fa651c",
   "metadata": {
    "ExecuteTime": {
     "end_time": "2022-11-14T16:07:28.123305Z",
     "start_time": "2022-11-14T16:07:28.095305Z"
    }
   },
   "outputs": [],
   "source": [
    "df['시력(좌)'] = df['시력(좌)'].fillna(9.9)\n",
    "df['시력(우)'] = df['시력(우)'].fillna(9.9)"
   ]
  },
  {
   "cell_type": "code",
   "execution_count": 173,
   "id": "a855d809",
   "metadata": {
    "ExecuteTime": {
     "end_time": "2022-11-14T16:07:28.168396Z",
     "start_time": "2022-11-14T16:07:28.125305Z"
    }
   },
   "outputs": [
    {
     "data": {
      "text/plain": [
       "array([1. , 1.2, 0.9, 1.5, 0.8, 0.7, 0.6, 0.2, 0.4, 0.5, 0.3, 0.1, 2. ,\n",
       "       9.9, 1.9, 1.6, 1.3, 1.7, 1.1, 2.5, 1.4, 1.8, 2.2, 2.1])"
      ]
     },
     "execution_count": 173,
     "metadata": {},
     "output_type": "execute_result"
    }
   ],
   "source": [
    "df['시력(좌)'].unique()"
   ]
  },
  {
   "cell_type": "code",
   "execution_count": 174,
   "id": "9fecd78f",
   "metadata": {
    "ExecuteTime": {
     "end_time": "2022-11-14T16:07:28.213341Z",
     "start_time": "2022-11-14T16:07:28.171305Z"
    }
   },
   "outputs": [
    {
     "data": {
      "text/plain": [
       "array([1.2, 1. , 0.8, 1.5, 0.7, 0.9, 0.5, 0.2, 0.4, 0.3, 2. , 0.6, 0.1,\n",
       "       9.9, 1.6, 1.3, 1.9, 1.1, 1.7, 2.1, 1.8, 1.4, 2.5, 2.3])"
      ]
     },
     "execution_count": 174,
     "metadata": {},
     "output_type": "execute_result"
    }
   ],
   "source": [
    "df['시력(우)'].unique()"
   ]
  },
  {
   "cell_type": "code",
   "execution_count": 175,
   "id": "97cf8bff",
   "metadata": {
    "ExecuteTime": {
     "end_time": "2022-11-14T16:07:28.816016Z",
     "start_time": "2022-11-14T16:07:28.216310Z"
    }
   },
   "outputs": [
    {
     "name": "stderr",
     "output_type": "stream",
     "text": [
      "C:\\Users\\alsgu\\AppData\\Local\\Temp/ipykernel_15556/2362320540.py:4: UserWarning: Boolean Series key will be reindexed to match DataFrame index.\n",
      "  df = df[~mask1]\n"
     ]
    }
   ],
   "source": [
    "mask = df['시력(좌)'].isin([9.9])\n",
    "mask1 = df['시력(우)'].isin([9.9])\n",
    "df = df[~mask]\n",
    "df = df[~mask1]"
   ]
  },
  {
   "cell_type": "code",
   "execution_count": null,
   "id": "d64fe7a4",
   "metadata": {
    "ExecuteTime": {
     "end_time": "2022-11-14T15:52:50.473287Z",
     "start_time": "2022-11-14T15:52:50.142251Z"
    }
   },
   "outputs": [],
   "source": []
  },
  {
   "cell_type": "code",
   "execution_count": 176,
   "id": "e4bcfcfd",
   "metadata": {
    "ExecuteTime": {
     "end_time": "2022-11-14T16:07:28.860508Z",
     "start_time": "2022-11-14T16:07:28.818787Z"
    }
   },
   "outputs": [
    {
     "data": {
      "text/plain": [
       "array([1. , 1.2, 0.9, 1.5, 0.8, 0.7, 0.6, 0.2, 0.4, 0.5, 0.3, 0.1, 2. ,\n",
       "       1.9, 1.6, 1.3, 1.7, 1.1, 2.5, 1.4, 1.8, 2.2, 2.1])"
      ]
     },
     "execution_count": 176,
     "metadata": {},
     "output_type": "execute_result"
    }
   ],
   "source": [
    "df['시력(좌)'].unique()"
   ]
  },
  {
   "cell_type": "code",
   "execution_count": 177,
   "id": "2048f601",
   "metadata": {
    "ExecuteTime": {
     "end_time": "2022-11-14T16:07:28.905961Z",
     "start_time": "2022-11-14T16:07:28.863700Z"
    }
   },
   "outputs": [
    {
     "data": {
      "text/plain": [
       "array([1.2, 1. , 0.8, 1.5, 0.7, 0.9, 0.5, 0.2, 0.4, 0.3, 2. , 0.6, 0.1,\n",
       "       1.6, 1.3, 1.9, 1.1, 1.7, 2.1, 1.8, 1.4, 2.5, 2.3])"
      ]
     },
     "execution_count": 177,
     "metadata": {},
     "output_type": "execute_result"
    }
   ],
   "source": [
    "df['시력(우)'].unique()"
   ]
  },
  {
   "cell_type": "code",
   "execution_count": 178,
   "id": "e062662c",
   "metadata": {
    "ExecuteTime": {
     "end_time": "2022-11-14T16:07:30.228937Z",
     "start_time": "2022-11-14T16:07:28.913794Z"
    }
   },
   "outputs": [],
   "source": [
    "df = df.sort_values(by='연령대코드(5세단위)', ascending=True)"
   ]
  },
  {
   "cell_type": "code",
   "execution_count": 179,
   "id": "a0b6f737",
   "metadata": {
    "ExecuteTime": {
     "end_time": "2022-11-14T16:07:32.548829Z",
     "start_time": "2022-11-14T16:07:30.231758Z"
    }
   },
   "outputs": [
    {
     "data": {
      "text/plain": [
       "<AxesSubplot:xlabel='시력(우)', ylabel='연령대코드(5세단위)'>"
      ]
     },
     "execution_count": 179,
     "metadata": {},
     "output_type": "execute_result"
    },
    {
     "data": {
      "image/png": "[encoded data removed]",
      "text/plain": [
       "<Figure size 1440x720 with 2 Axes>"
      ]
     },
     "metadata": {
      "needs_background": "light"
     },
     "output_type": "display_data"
    }
   ],
   "source": [
    "plt.figure(figsize=(20,10))\n",
    "plt.subplot(1,2,1)\n",
    "sns.barplot(data=df, x='시력(좌)',y = '연령대코드(5세단위)', hue='성별코드', ci = None)\n",
    "\n",
    "plt.subplot(1,2,2)\n",
    "sns.barplot(data=df, x='시력(우)', y='연령대코드(5세단위)',hue='성별코드', ci=None)"
   ]
  },
  {
   "cell_type": "code",
   "execution_count": null,
   "id": "f70bc7cb",
   "metadata": {},
   "outputs": [],
   "source": []
  }
 ],
 "metadata": {
  "kernelspec": {
   "display_name": "Python 3 (ipykernel)",
   "language": "python",
   "name": "python3"
  },
  "language_info": {
   "codemirror_mode": {
    "name": "ipython",
    "version": 3
   },
   "file_extension": ".py",
   "mimetype": "text/x-python",
   "name": "python",
   "nbconvert_exporter": "python",
   "pygments_lexer": "ipython3",
   "version": "3.8.8"
  }
 },
 "nbformat": 4,
 "nbformat_minor": 5
}
